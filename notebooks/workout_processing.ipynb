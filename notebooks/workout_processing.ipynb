{
 "cells": [
  {
   "cell_type": "code",
   "execution_count": 36,
   "id": "1f679436",
   "metadata": {},
   "outputs": [],
   "source": [
    "import pandas as pd \n",
    "import numpy as np\n",
    "from pathlib import Path\n",
    "import glob \n",
    "import importlib\n",
    "from functions import open_workout_file, get_all_workout_files, build_exercise_dataframe, extract_exercise_sets, extract_set_data\n",
    "from functions import calculate_weighted_set_volume, extract_bodyweight_volume, extract_volume, get_workout_name, get_workout_date\n",
    "import functions\n",
    "pd.set_option('display.max_columns', None)\n",
    "pd.set_option('display.width', None)"
   ]
  },
  {
   "cell_type": "code",
   "execution_count": 15,
   "id": "4e94aaa0",
   "metadata": {},
   "outputs": [
    {
     "name": "stdout",
     "output_type": "stream",
     "text": [
      "Found 11 workout files\n"
     ]
    }
   ],
   "source": [
    "# import workout files \n",
    "workout_files = get_all_workout_files()\n",
    "print(f\"Found {len(workout_files)} workout files\")"
   ]
  },
  {
   "cell_type": "code",
   "execution_count": 16,
   "id": "b2a1c4ac",
   "metadata": {},
   "outputs": [
    {
     "name": "stdout",
     "output_type": "stream",
     "text": [
      "First line of first workout file: Sep 26 Workout\n",
      "\n",
      "Fifth line of first workout file: Set 2 : 2 kg  x 11\n",
      "\n"
     ]
    }
   ],
   "source": [
    "line = open_workout_file(workout_files[0])\n",
    "print(\"First line of first workout file:\", line[0])\n",
    "print(\"Fifth line of first workout file:\", line[5])"
   ]
  },
  {
   "cell_type": "code",
   "execution_count": 17,
   "id": "73b48b79",
   "metadata": {},
   "outputs": [
    {
     "data": {
      "text/plain": [
       "22.0"
      ]
     },
     "execution_count": 17,
     "metadata": {},
     "output_type": "execute_result"
    }
   ],
   "source": [
    "calculate_weighted_set_volume(line[5])"
   ]
  },
  {
   "cell_type": "code",
   "execution_count": 18,
   "id": "13009fbc",
   "metadata": {},
   "outputs": [
    {
     "name": "stdout",
     "output_type": "stream",
     "text": [
      "Total volume: 224.0 kg\n"
     ]
    }
   ],
   "source": [
    "total = extract_volume(workout_files[0], bodyweight=80)\n",
    "print(f\"Total volume: {total} kg\")"
   ]
  },
  {
   "cell_type": "code",
   "execution_count": 19,
   "id": "5851630f",
   "metadata": {},
   "outputs": [
    {
     "name": "stdout",
     "output_type": "stream",
     "text": [
      "../data/raw/workouts/26_09_25.txt: 224.0 kg\n",
      "../data/raw/workouts/09_10_25.txt: 2204.0 kg\n",
      "../data/raw/workouts/11_10_25.txt: 7514.0 kg\n",
      "../data/raw/workouts/05_10_25.txt: 5338.0 kg\n",
      "../data/raw/workouts/06_10_25.txt: 9711.0 kg\n",
      "../data/raw/workouts/24_09_25.txt: 5653.0 kg\n",
      "../data/raw/workouts/12_10_25.txt: 6117.0 kg\n",
      "../data/raw/workouts/15_10_25.txt: 11275.0 kg\n",
      "../data/raw/workouts/07_10_25.txt: 4451.0 kg\n",
      "../data/raw/workouts/25_09_25.txt: 5469.5 kg\n",
      "../data/raw/workouts/28_09_25.txt: 4935.0 kg\n"
     ]
    }
   ],
   "source": [
    "for file in workout_files:\n",
    "    total = extract_volume(file, bodyweight=80)\n",
    "    print(f\"{file}: {total} kg\")"
   ]
  },
  {
   "cell_type": "code",
   "execution_count": 20,
   "id": "f8aba466",
   "metadata": {},
   "outputs": [
    {
     "name": "stdout",
     "output_type": "stream",
     "text": [
      "Processing: ../data/raw/workouts/26_09_25.txt\n",
      "  Total: 224.0 kg\n",
      "Processing: ../data/raw/workouts/09_10_25.txt\n",
      "  Total: 2204.0 kg\n",
      "Processing: ../data/raw/workouts/11_10_25.txt\n",
      "  Total: 7514.0 kg\n",
      "Processing: ../data/raw/workouts/05_10_25.txt\n",
      "  Total: 5338.0 kg\n",
      "Processing: ../data/raw/workouts/06_10_25.txt\n",
      "  Total: 9711.0 kg\n",
      "Processing: ../data/raw/workouts/24_09_25.txt\n",
      "  Total: 5653.0 kg\n",
      "Processing: ../data/raw/workouts/12_10_25.txt\n",
      "  Total: 6117.0 kg\n",
      "Processing: ../data/raw/workouts/15_10_25.txt\n",
      "  Total: 11275.0 kg\n",
      "Processing: ../data/raw/workouts/07_10_25.txt\n",
      "  Total: 4451.0 kg\n",
      "Processing: ../data/raw/workouts/25_09_25.txt\n",
      "  Total: 5469.5 kg\n",
      "Processing: ../data/raw/workouts/28_09_25.txt\n",
      "  Total: 4935.0 kg\n"
     ]
    }
   ],
   "source": [
    "for file in workout_files:\n",
    "    print(f\"Processing: {file}\")\n",
    "    total = extract_volume(file, bodyweight=80)\n",
    "    print(f\"  Total: {total} kg\")"
   ]
  },
  {
   "cell_type": "code",
   "execution_count": 21,
   "id": "7e6b00bf",
   "metadata": {},
   "outputs": [
    {
     "name": "stdout",
     "output_type": "stream",
     "text": [
      "Sep 26 Workout\n"
     ]
    }
   ],
   "source": [
    "name = get_workout_name(workout_files[0])\n",
    "print(name)"
   ]
  },
  {
   "cell_type": "code",
   "execution_count": 22,
   "id": "f936f9d9",
   "metadata": {},
   "outputs": [
    {
     "name": "stdout",
     "output_type": "stream",
     "text": [
      "2025-09-26\n"
     ]
    }
   ],
   "source": [
    "date = get_workout_date(workout_files[0])\n",
    "print(date)"
   ]
  },
  {
   "cell_type": "markdown",
   "id": "b0d51f93",
   "metadata": {},
   "source": [
    "### Create dataframe for workout data"
   ]
  },
  {
   "cell_type": "code",
   "execution_count": null,
   "id": "27b4cfab",
   "metadata": {},
   "outputs": [
    {
     "data": {
      "text/html": [
       "<div>\n",
       "<style scoped>\n",
       "    .dataframe tbody tr th:only-of-type {\n",
       "        vertical-align: middle;\n",
       "    }\n",
       "\n",
       "    .dataframe tbody tr th {\n",
       "        vertical-align: top;\n",
       "    }\n",
       "\n",
       "    .dataframe thead th {\n",
       "        text-align: right;\n",
       "    }\n",
       "</style>\n",
       "<table border=\"1\" class=\"dataframe\">\n",
       "  <thead>\n",
       "    <tr style=\"text-align: right;\">\n",
       "      <th></th>\n",
       "      <th>date</th>\n",
       "      <th>workout_name</th>\n",
       "      <th>total_volume</th>\n",
       "    </tr>\n",
       "  </thead>\n",
       "  <tbody>\n",
       "    <tr>\n",
       "      <th>0</th>\n",
       "      <td>2025-09-26</td>\n",
       "      <td>Sep 26 Workout</td>\n",
       "      <td>224.0</td>\n",
       "    </tr>\n",
       "    <tr>\n",
       "      <th>1</th>\n",
       "      <td>2025-10-09</td>\n",
       "      <td>Oct 9 Workout</td>\n",
       "      <td>2204.0</td>\n",
       "    </tr>\n",
       "    <tr>\n",
       "      <th>2</th>\n",
       "      <td>2025-10-11</td>\n",
       "      <td>BACK &amp; DELTS</td>\n",
       "      <td>7514.0</td>\n",
       "    </tr>\n",
       "    <tr>\n",
       "      <th>3</th>\n",
       "      <td>2025-10-05</td>\n",
       "      <td>Upper MP B</td>\n",
       "      <td>5338.0</td>\n",
       "    </tr>\n",
       "    <tr>\n",
       "      <th>4</th>\n",
       "      <td>2025-10-06</td>\n",
       "      <td>Oct 6 Workout</td>\n",
       "      <td>9711.0</td>\n",
       "    </tr>\n",
       "  </tbody>\n",
       "</table>\n",
       "</div>"
      ],
      "text/plain": [
       "         date    workout_name  total_volume\n",
       "0  2025-09-26  Sep 26 Workout         224.0\n",
       "1  2025-10-09   Oct 9 Workout        2204.0\n",
       "2  2025-10-11    BACK & DELTS        7514.0\n",
       "3  2025-10-05      Upper MP B        5338.0\n",
       "4  2025-10-06   Oct 6 Workout        9711.0"
      ]
     },
     "execution_count": 39,
     "metadata": {},
     "output_type": "execute_result"
    }
   ],
   "source": [
    "# Create lists to store data\n",
    "dates = []\n",
    "names = []\n",
    "volumes = []\n",
    "\n",
    "# Loop through all workout files\n",
    "for file in workout_files:\n",
    "    date = get_workout_date(file)\n",
    "    name = get_workout_name(file)\n",
    "    volume = extract_volume(file, bodyweight=80)\n",
    "    \n",
    "    dates.append(date)\n",
    "    names.append(name)\n",
    "    volumes.append(volume)\n",
    "\n",
    "# Create DataFrame\n",
    "workout_df = pd.DataFrame({\n",
    "    'date': dates,\n",
    "    'workout_name': names,\n",
    "    'total_volume': volumes\n",
    "})\n",
    "\n",
    "print(workout_df)"
   ]
  },
  {
   "cell_type": "code",
   "execution_count": 24,
   "id": "2cda0bd7",
   "metadata": {},
   "outputs": [
    {
     "name": "stdout",
     "output_type": "stream",
     "text": [
      "Workout summary saved to ../data/processed/workout_summary.csv\n"
     ]
    }
   ],
   "source": [
    "# save to csv\n",
    "workout_df.to_csv('../data/processed/workout_summary.csv', index=False)\n",
    "print(\"Workout summary saved to ../data/processed/workout_summary.csv\")"
   ]
  },
  {
   "cell_type": "code",
   "execution_count": 40,
   "id": "9f3b4ff7",
   "metadata": {},
   "outputs": [
    {
     "data": {
      "text/html": [
       "<div>\n",
       "<style scoped>\n",
       "    .dataframe tbody tr th:only-of-type {\n",
       "        vertical-align: middle;\n",
       "    }\n",
       "\n",
       "    .dataframe tbody tr th {\n",
       "        vertical-align: top;\n",
       "    }\n",
       "\n",
       "    .dataframe thead th {\n",
       "        text-align: right;\n",
       "    }\n",
       "</style>\n",
       "<table border=\"1\" class=\"dataframe\">\n",
       "  <thead>\n",
       "    <tr style=\"text-align: right;\">\n",
       "      <th></th>\n",
       "      <th>date</th>\n",
       "      <th>exercise</th>\n",
       "      <th>set_number</th>\n",
       "      <th>weight</th>\n",
       "      <th>reps</th>\n",
       "      <th>volume</th>\n",
       "    </tr>\n",
       "  </thead>\n",
       "  <tbody>\n",
       "    <tr>\n",
       "      <th>0</th>\n",
       "      <td>2025-09-26</td>\n",
       "      <td>Lateral Raise (Dumbbell)</td>\n",
       "      <td>1</td>\n",
       "      <td>2.0</td>\n",
       "      <td>8</td>\n",
       "      <td>16.0</td>\n",
       "    </tr>\n",
       "    <tr>\n",
       "      <th>1</th>\n",
       "      <td>2025-09-26</td>\n",
       "      <td>Lateral Raise (Dumbbell)</td>\n",
       "      <td>2</td>\n",
       "      <td>2.0</td>\n",
       "      <td>11</td>\n",
       "      <td>22.0</td>\n",
       "    </tr>\n",
       "    <tr>\n",
       "      <th>2</th>\n",
       "      <td>2025-09-26</td>\n",
       "      <td>Lateral Raise (Dumbbell)</td>\n",
       "      <td>3</td>\n",
       "      <td>2.0</td>\n",
       "      <td>13</td>\n",
       "      <td>26.0</td>\n",
       "    </tr>\n",
       "    <tr>\n",
       "      <th>3</th>\n",
       "      <td>2025-09-26</td>\n",
       "      <td>Lateral Raise (Dumbbell)</td>\n",
       "      <td>4</td>\n",
       "      <td>4.0</td>\n",
       "      <td>13</td>\n",
       "      <td>52.0</td>\n",
       "    </tr>\n",
       "    <tr>\n",
       "      <th>4</th>\n",
       "      <td>2025-09-26</td>\n",
       "      <td>Lateral Raise (Dumbbell)</td>\n",
       "      <td>5</td>\n",
       "      <td>6.0</td>\n",
       "      <td>10</td>\n",
       "      <td>60.0</td>\n",
       "    </tr>\n",
       "  </tbody>\n",
       "</table>\n",
       "</div>"
      ],
      "text/plain": [
       "        date                  exercise  set_number  weight  reps  volume\n",
       "0 2025-09-26  Lateral Raise (Dumbbell)           1     2.0     8    16.0\n",
       "1 2025-09-26  Lateral Raise (Dumbbell)           2     2.0    11    22.0\n",
       "2 2025-09-26  Lateral Raise (Dumbbell)           3     2.0    13    26.0\n",
       "3 2025-09-26  Lateral Raise (Dumbbell)           4     4.0    13    52.0\n",
       "4 2025-09-26  Lateral Raise (Dumbbell)           5     6.0    10    60.0"
      ]
     },
     "execution_count": 40,
     "metadata": {},
     "output_type": "execute_result"
    }
   ],
   "source": [
    "# Define which exercises you want to track\n",
    "my_exercises = [\n",
    "    \"Bench Press (Barbell)\",\n",
    "    \"Overhead Tricep Extension (Cable)\", \n",
    "    \"Romanian Deadlift (Barbell)\",\n",
    "    \"Lateral Raise (Dumbbell)\"\n",
    "]\n",
    "\n",
    "# Build the dataframe\n",
    "exercise_df = build_exercise_dataframe(my_exercises, bodyweight=80)\n",
    "\n",
    "# Look at it!\n",
    "exercise_df.head()"
   ]
  },
  {
   "cell_type": "code",
   "execution_count": 28,
   "id": "972b3975",
   "metadata": {},
   "outputs": [
    {
     "data": {
      "text/plain": [
       "date                  2025-10-15 00:00:00\n",
       "exercise      Romanian Deadlift (Barbell)\n",
       "set_number                              6\n",
       "weight                               70.0\n",
       "reps                                   17\n",
       "volume                              720.0\n",
       "dtype: object"
      ]
     },
     "execution_count": 28,
     "metadata": {},
     "output_type": "execute_result"
    }
   ],
   "source": [
    "exercise_df.max()"
   ]
  },
  {
   "cell_type": "code",
   "execution_count": null,
   "id": "41fc8f50",
   "metadata": {},
   "outputs": [
    {
     "name": "stdout",
     "output_type": "stream",
     "text": [
      "60.0\n"
     ]
    }
   ],
   "source": [
    "# Get max weight lifted for Bench Press (Barbell)\n",
    "print(exercise_df[exercise_df['exercise'] == 'Bench Press (Barbell)']['weight'].max())"
   ]
  },
  {
   "cell_type": "code",
   "execution_count": 41,
   "id": "8607b646",
   "metadata": {},
   "outputs": [
    {
     "data": {
      "text/html": [
       "<div>\n",
       "<style scoped>\n",
       "    .dataframe tbody tr th:only-of-type {\n",
       "        vertical-align: middle;\n",
       "    }\n",
       "\n",
       "    .dataframe tbody tr th {\n",
       "        vertical-align: top;\n",
       "    }\n",
       "\n",
       "    .dataframe thead th {\n",
       "        text-align: right;\n",
       "    }\n",
       "</style>\n",
       "<table border=\"1\" class=\"dataframe\">\n",
       "  <thead>\n",
       "    <tr style=\"text-align: right;\">\n",
       "      <th></th>\n",
       "      <th>weight</th>\n",
       "      <th>volume</th>\n",
       "    </tr>\n",
       "    <tr>\n",
       "      <th>exercise</th>\n",
       "      <th></th>\n",
       "      <th></th>\n",
       "    </tr>\n",
       "  </thead>\n",
       "  <tbody>\n",
       "    <tr>\n",
       "      <th>Bench Press (Barbell)</th>\n",
       "      <td>60.0</td>\n",
       "      <td>500.0</td>\n",
       "    </tr>\n",
       "    <tr>\n",
       "      <th>Lateral Raise (Dumbbell)</th>\n",
       "      <td>8.0</td>\n",
       "      <td>72.0</td>\n",
       "    </tr>\n",
       "    <tr>\n",
       "      <th>Overhead Tricep Extension (Cable)</th>\n",
       "      <td>35.0</td>\n",
       "      <td>275.0</td>\n",
       "    </tr>\n",
       "    <tr>\n",
       "      <th>Romanian Deadlift (Barbell)</th>\n",
       "      <td>70.0</td>\n",
       "      <td>720.0</td>\n",
       "    </tr>\n",
       "  </tbody>\n",
       "</table>\n",
       "</div>"
      ],
      "text/plain": [
       "                                   weight  volume\n",
       "exercise                                         \n",
       "Bench Press (Barbell)                60.0   500.0\n",
       "Lateral Raise (Dumbbell)              8.0    72.0\n",
       "Overhead Tricep Extension (Cable)    35.0   275.0\n",
       "Romanian Deadlift (Barbell)          70.0   720.0"
      ]
     },
     "execution_count": 41,
     "metadata": {},
     "output_type": "execute_result"
    }
   ],
   "source": [
    "# get PR for each exercise\n",
    "exercise_df.groupby('exercise')[['weight', 'volume']].max()"
   ]
  },
  {
   "cell_type": "code",
   "execution_count": null,
   "id": "d482ea11",
   "metadata": {},
   "outputs": [],
   "source": []
  }
 ],
 "metadata": {
  "kernelspec": {
   "display_name": "Python 3",
   "language": "python",
   "name": "python3"
  },
  "language_info": {
   "codemirror_mode": {
    "name": "ipython",
    "version": 3
   },
   "file_extension": ".py",
   "mimetype": "text/x-python",
   "name": "python",
   "nbconvert_exporter": "python",
   "pygments_lexer": "ipython3",
   "version": "3.13.3"
  }
 },
 "nbformat": 4,
 "nbformat_minor": 5
}
