{
 "cells": [
  {
   "cell_type": "markdown",
   "id": "6ef9ab15",
   "metadata": {},
   "source": [
    "### Import data"
   ]
  },
  {
   "cell_type": "code",
   "execution_count": 1,
   "id": "2776a229",
   "metadata": {},
   "outputs": [],
   "source": [
    "import pandas as pd\n",
    "import numpy as np\n",
    "from pathlib import Path\n",
    "import matplotlib as map"
   ]
  },
  {
   "cell_type": "markdown",
   "id": "1b93b7aa",
   "metadata": {},
   "source": [
    "## Import HRV data"
   ]
  },
  {
   "cell_type": "code",
   "execution_count": 2,
   "id": "6cd08f5e",
   "metadata": {},
   "outputs": [
    {
     "ename": "HTTPError",
     "evalue": "HTTP Error 400: Bad Request",
     "output_type": "error",
     "traceback": [
      "\u001b[31m---------------------------------------------------------------------------\u001b[39m",
      "\u001b[31mHTTPError\u001b[39m                                 Traceback (most recent call last)",
      "\u001b[36mCell\u001b[39m\u001b[36m \u001b[39m\u001b[32mIn[2]\u001b[39m\u001b[32m, line 16\u001b[39m\n\u001b[32m     11\u001b[39m RAW = ROOT / \u001b[33m\"\u001b[39m\u001b[33mdata\u001b[39m\u001b[33m\"\u001b[39m / \u001b[33m\"\u001b[39m\u001b[33mraw\u001b[39m\u001b[33m\"\u001b[39m  \n\u001b[32m     13\u001b[39m \u001b[38;5;66;03m# Read the CSV file stored in data/raw. \u001b[39;00m\n\u001b[32m     14\u001b[39m \u001b[38;5;66;03m# RAW / \"wellness.csv\" joins the folder path with the filename safely,\u001b[39;00m\n\u001b[32m     15\u001b[39m \u001b[38;5;66;03m# so you don’t have to worry about slashes on different OSes.\u001b[39;00m\n\u001b[32m---> \u001b[39m\u001b[32m16\u001b[39m hrv = \u001b[43mpd\u001b[49m\u001b[43m.\u001b[49m\u001b[43mread_csv\u001b[49m\u001b[43m(\u001b[49m\u001b[33;43m\"\u001b[39;49m\u001b[33;43mhttps://docs.google.com/spreadsheets/d/e/2PACX-1vQdQNqbZ2h-NgflUUbKUbLiCXJkcCne-qIp-JWaQE_2XZhFdljkkANmcHM4obQTcbNI8y4_U5cc3xz_/pub?gid=1912488080&single=true&output=csv\u001b[39;49m\u001b[33;43m\"\u001b[39;49m\u001b[43m)\u001b[49m\n\u001b[32m     18\u001b[39m \u001b[38;5;66;03m# freeze a copy of the csv file to RAW folder\u001b[39;00m\n\u001b[32m     19\u001b[39m \u001b[38;5;28;01mfrom\u001b[39;00m\u001b[38;5;250m \u001b[39m\u001b[34;01mdatetime\u001b[39;00m\u001b[38;5;250m \u001b[39m\u001b[38;5;28;01mimport\u001b[39;00m date \n",
      "\u001b[36mFile \u001b[39m\u001b[32m~/Desktop/hrv-readiness-study/.venv/lib/python3.13/site-packages/pandas/io/parsers/readers.py:1026\u001b[39m, in \u001b[36mread_csv\u001b[39m\u001b[34m(filepath_or_buffer, sep, delimiter, header, names, index_col, usecols, dtype, engine, converters, true_values, false_values, skipinitialspace, skiprows, skipfooter, nrows, na_values, keep_default_na, na_filter, verbose, skip_blank_lines, parse_dates, infer_datetime_format, keep_date_col, date_parser, date_format, dayfirst, cache_dates, iterator, chunksize, compression, thousands, decimal, lineterminator, quotechar, quoting, doublequote, escapechar, comment, encoding, encoding_errors, dialect, on_bad_lines, delim_whitespace, low_memory, memory_map, float_precision, storage_options, dtype_backend)\u001b[39m\n\u001b[32m   1013\u001b[39m kwds_defaults = _refine_defaults_read(\n\u001b[32m   1014\u001b[39m     dialect,\n\u001b[32m   1015\u001b[39m     delimiter,\n\u001b[32m   (...)\u001b[39m\u001b[32m   1022\u001b[39m     dtype_backend=dtype_backend,\n\u001b[32m   1023\u001b[39m )\n\u001b[32m   1024\u001b[39m kwds.update(kwds_defaults)\n\u001b[32m-> \u001b[39m\u001b[32m1026\u001b[39m \u001b[38;5;28;01mreturn\u001b[39;00m \u001b[43m_read\u001b[49m\u001b[43m(\u001b[49m\u001b[43mfilepath_or_buffer\u001b[49m\u001b[43m,\u001b[49m\u001b[43m \u001b[49m\u001b[43mkwds\u001b[49m\u001b[43m)\u001b[49m\n",
      "\u001b[36mFile \u001b[39m\u001b[32m~/Desktop/hrv-readiness-study/.venv/lib/python3.13/site-packages/pandas/io/parsers/readers.py:620\u001b[39m, in \u001b[36m_read\u001b[39m\u001b[34m(filepath_or_buffer, kwds)\u001b[39m\n\u001b[32m    617\u001b[39m _validate_names(kwds.get(\u001b[33m\"\u001b[39m\u001b[33mnames\u001b[39m\u001b[33m\"\u001b[39m, \u001b[38;5;28;01mNone\u001b[39;00m))\n\u001b[32m    619\u001b[39m \u001b[38;5;66;03m# Create the parser.\u001b[39;00m\n\u001b[32m--> \u001b[39m\u001b[32m620\u001b[39m parser = \u001b[43mTextFileReader\u001b[49m\u001b[43m(\u001b[49m\u001b[43mfilepath_or_buffer\u001b[49m\u001b[43m,\u001b[49m\u001b[43m \u001b[49m\u001b[43m*\u001b[49m\u001b[43m*\u001b[49m\u001b[43mkwds\u001b[49m\u001b[43m)\u001b[49m\n\u001b[32m    622\u001b[39m \u001b[38;5;28;01mif\u001b[39;00m chunksize \u001b[38;5;129;01mor\u001b[39;00m iterator:\n\u001b[32m    623\u001b[39m     \u001b[38;5;28;01mreturn\u001b[39;00m parser\n",
      "\u001b[36mFile \u001b[39m\u001b[32m~/Desktop/hrv-readiness-study/.venv/lib/python3.13/site-packages/pandas/io/parsers/readers.py:1620\u001b[39m, in \u001b[36mTextFileReader.__init__\u001b[39m\u001b[34m(self, f, engine, **kwds)\u001b[39m\n\u001b[32m   1617\u001b[39m     \u001b[38;5;28mself\u001b[39m.options[\u001b[33m\"\u001b[39m\u001b[33mhas_index_names\u001b[39m\u001b[33m\"\u001b[39m] = kwds[\u001b[33m\"\u001b[39m\u001b[33mhas_index_names\u001b[39m\u001b[33m\"\u001b[39m]\n\u001b[32m   1619\u001b[39m \u001b[38;5;28mself\u001b[39m.handles: IOHandles | \u001b[38;5;28;01mNone\u001b[39;00m = \u001b[38;5;28;01mNone\u001b[39;00m\n\u001b[32m-> \u001b[39m\u001b[32m1620\u001b[39m \u001b[38;5;28mself\u001b[39m._engine = \u001b[38;5;28;43mself\u001b[39;49m\u001b[43m.\u001b[49m\u001b[43m_make_engine\u001b[49m\u001b[43m(\u001b[49m\u001b[43mf\u001b[49m\u001b[43m,\u001b[49m\u001b[43m \u001b[49m\u001b[38;5;28;43mself\u001b[39;49m\u001b[43m.\u001b[49m\u001b[43mengine\u001b[49m\u001b[43m)\u001b[49m\n",
      "\u001b[36mFile \u001b[39m\u001b[32m~/Desktop/hrv-readiness-study/.venv/lib/python3.13/site-packages/pandas/io/parsers/readers.py:1880\u001b[39m, in \u001b[36mTextFileReader._make_engine\u001b[39m\u001b[34m(self, f, engine)\u001b[39m\n\u001b[32m   1878\u001b[39m     \u001b[38;5;28;01mif\u001b[39;00m \u001b[33m\"\u001b[39m\u001b[33mb\u001b[39m\u001b[33m\"\u001b[39m \u001b[38;5;129;01mnot\u001b[39;00m \u001b[38;5;129;01min\u001b[39;00m mode:\n\u001b[32m   1879\u001b[39m         mode += \u001b[33m\"\u001b[39m\u001b[33mb\u001b[39m\u001b[33m\"\u001b[39m\n\u001b[32m-> \u001b[39m\u001b[32m1880\u001b[39m \u001b[38;5;28mself\u001b[39m.handles = \u001b[43mget_handle\u001b[49m\u001b[43m(\u001b[49m\n\u001b[32m   1881\u001b[39m \u001b[43m    \u001b[49m\u001b[43mf\u001b[49m\u001b[43m,\u001b[49m\n\u001b[32m   1882\u001b[39m \u001b[43m    \u001b[49m\u001b[43mmode\u001b[49m\u001b[43m,\u001b[49m\n\u001b[32m   1883\u001b[39m \u001b[43m    \u001b[49m\u001b[43mencoding\u001b[49m\u001b[43m=\u001b[49m\u001b[38;5;28;43mself\u001b[39;49m\u001b[43m.\u001b[49m\u001b[43moptions\u001b[49m\u001b[43m.\u001b[49m\u001b[43mget\u001b[49m\u001b[43m(\u001b[49m\u001b[33;43m\"\u001b[39;49m\u001b[33;43mencoding\u001b[39;49m\u001b[33;43m\"\u001b[39;49m\u001b[43m,\u001b[49m\u001b[43m \u001b[49m\u001b[38;5;28;43;01mNone\u001b[39;49;00m\u001b[43m)\u001b[49m\u001b[43m,\u001b[49m\n\u001b[32m   1884\u001b[39m \u001b[43m    \u001b[49m\u001b[43mcompression\u001b[49m\u001b[43m=\u001b[49m\u001b[38;5;28;43mself\u001b[39;49m\u001b[43m.\u001b[49m\u001b[43moptions\u001b[49m\u001b[43m.\u001b[49m\u001b[43mget\u001b[49m\u001b[43m(\u001b[49m\u001b[33;43m\"\u001b[39;49m\u001b[33;43mcompression\u001b[39;49m\u001b[33;43m\"\u001b[39;49m\u001b[43m,\u001b[49m\u001b[43m \u001b[49m\u001b[38;5;28;43;01mNone\u001b[39;49;00m\u001b[43m)\u001b[49m\u001b[43m,\u001b[49m\n\u001b[32m   1885\u001b[39m \u001b[43m    \u001b[49m\u001b[43mmemory_map\u001b[49m\u001b[43m=\u001b[49m\u001b[38;5;28;43mself\u001b[39;49m\u001b[43m.\u001b[49m\u001b[43moptions\u001b[49m\u001b[43m.\u001b[49m\u001b[43mget\u001b[49m\u001b[43m(\u001b[49m\u001b[33;43m\"\u001b[39;49m\u001b[33;43mmemory_map\u001b[39;49m\u001b[33;43m\"\u001b[39;49m\u001b[43m,\u001b[49m\u001b[43m \u001b[49m\u001b[38;5;28;43;01mFalse\u001b[39;49;00m\u001b[43m)\u001b[49m\u001b[43m,\u001b[49m\n\u001b[32m   1886\u001b[39m \u001b[43m    \u001b[49m\u001b[43mis_text\u001b[49m\u001b[43m=\u001b[49m\u001b[43mis_text\u001b[49m\u001b[43m,\u001b[49m\n\u001b[32m   1887\u001b[39m \u001b[43m    \u001b[49m\u001b[43merrors\u001b[49m\u001b[43m=\u001b[49m\u001b[38;5;28;43mself\u001b[39;49m\u001b[43m.\u001b[49m\u001b[43moptions\u001b[49m\u001b[43m.\u001b[49m\u001b[43mget\u001b[49m\u001b[43m(\u001b[49m\u001b[33;43m\"\u001b[39;49m\u001b[33;43mencoding_errors\u001b[39;49m\u001b[33;43m\"\u001b[39;49m\u001b[43m,\u001b[49m\u001b[43m \u001b[49m\u001b[33;43m\"\u001b[39;49m\u001b[33;43mstrict\u001b[39;49m\u001b[33;43m\"\u001b[39;49m\u001b[43m)\u001b[49m\u001b[43m,\u001b[49m\n\u001b[32m   1888\u001b[39m \u001b[43m    \u001b[49m\u001b[43mstorage_options\u001b[49m\u001b[43m=\u001b[49m\u001b[38;5;28;43mself\u001b[39;49m\u001b[43m.\u001b[49m\u001b[43moptions\u001b[49m\u001b[43m.\u001b[49m\u001b[43mget\u001b[49m\u001b[43m(\u001b[49m\u001b[33;43m\"\u001b[39;49m\u001b[33;43mstorage_options\u001b[39;49m\u001b[33;43m\"\u001b[39;49m\u001b[43m,\u001b[49m\u001b[43m \u001b[49m\u001b[38;5;28;43;01mNone\u001b[39;49;00m\u001b[43m)\u001b[49m\u001b[43m,\u001b[49m\n\u001b[32m   1889\u001b[39m \u001b[43m\u001b[49m\u001b[43m)\u001b[49m\n\u001b[32m   1890\u001b[39m \u001b[38;5;28;01massert\u001b[39;00m \u001b[38;5;28mself\u001b[39m.handles \u001b[38;5;129;01mis\u001b[39;00m \u001b[38;5;129;01mnot\u001b[39;00m \u001b[38;5;28;01mNone\u001b[39;00m\n\u001b[32m   1891\u001b[39m f = \u001b[38;5;28mself\u001b[39m.handles.handle\n",
      "\u001b[36mFile \u001b[39m\u001b[32m~/Desktop/hrv-readiness-study/.venv/lib/python3.13/site-packages/pandas/io/common.py:728\u001b[39m, in \u001b[36mget_handle\u001b[39m\u001b[34m(path_or_buf, mode, encoding, compression, memory_map, is_text, errors, storage_options)\u001b[39m\n\u001b[32m    725\u001b[39m     codecs.lookup_error(errors)\n\u001b[32m    727\u001b[39m \u001b[38;5;66;03m# open URLs\u001b[39;00m\n\u001b[32m--> \u001b[39m\u001b[32m728\u001b[39m ioargs = \u001b[43m_get_filepath_or_buffer\u001b[49m\u001b[43m(\u001b[49m\n\u001b[32m    729\u001b[39m \u001b[43m    \u001b[49m\u001b[43mpath_or_buf\u001b[49m\u001b[43m,\u001b[49m\n\u001b[32m    730\u001b[39m \u001b[43m    \u001b[49m\u001b[43mencoding\u001b[49m\u001b[43m=\u001b[49m\u001b[43mencoding\u001b[49m\u001b[43m,\u001b[49m\n\u001b[32m    731\u001b[39m \u001b[43m    \u001b[49m\u001b[43mcompression\u001b[49m\u001b[43m=\u001b[49m\u001b[43mcompression\u001b[49m\u001b[43m,\u001b[49m\n\u001b[32m    732\u001b[39m \u001b[43m    \u001b[49m\u001b[43mmode\u001b[49m\u001b[43m=\u001b[49m\u001b[43mmode\u001b[49m\u001b[43m,\u001b[49m\n\u001b[32m    733\u001b[39m \u001b[43m    \u001b[49m\u001b[43mstorage_options\u001b[49m\u001b[43m=\u001b[49m\u001b[43mstorage_options\u001b[49m\u001b[43m,\u001b[49m\n\u001b[32m    734\u001b[39m \u001b[43m\u001b[49m\u001b[43m)\u001b[49m\n\u001b[32m    736\u001b[39m handle = ioargs.filepath_or_buffer\n\u001b[32m    737\u001b[39m handles: \u001b[38;5;28mlist\u001b[39m[BaseBuffer]\n",
      "\u001b[36mFile \u001b[39m\u001b[32m~/Desktop/hrv-readiness-study/.venv/lib/python3.13/site-packages/pandas/io/common.py:384\u001b[39m, in \u001b[36m_get_filepath_or_buffer\u001b[39m\u001b[34m(filepath_or_buffer, encoding, compression, mode, storage_options)\u001b[39m\n\u001b[32m    382\u001b[39m \u001b[38;5;66;03m# assuming storage_options is to be interpreted as headers\u001b[39;00m\n\u001b[32m    383\u001b[39m req_info = urllib.request.Request(filepath_or_buffer, headers=storage_options)\n\u001b[32m--> \u001b[39m\u001b[32m384\u001b[39m \u001b[38;5;28;01mwith\u001b[39;00m \u001b[43murlopen\u001b[49m\u001b[43m(\u001b[49m\u001b[43mreq_info\u001b[49m\u001b[43m)\u001b[49m \u001b[38;5;28;01mas\u001b[39;00m req:\n\u001b[32m    385\u001b[39m     content_encoding = req.headers.get(\u001b[33m\"\u001b[39m\u001b[33mContent-Encoding\u001b[39m\u001b[33m\"\u001b[39m, \u001b[38;5;28;01mNone\u001b[39;00m)\n\u001b[32m    386\u001b[39m     \u001b[38;5;28;01mif\u001b[39;00m content_encoding == \u001b[33m\"\u001b[39m\u001b[33mgzip\u001b[39m\u001b[33m\"\u001b[39m:\n\u001b[32m    387\u001b[39m         \u001b[38;5;66;03m# Override compression based on Content-Encoding header\u001b[39;00m\n",
      "\u001b[36mFile \u001b[39m\u001b[32m~/Desktop/hrv-readiness-study/.venv/lib/python3.13/site-packages/pandas/io/common.py:289\u001b[39m, in \u001b[36murlopen\u001b[39m\u001b[34m(*args, **kwargs)\u001b[39m\n\u001b[32m    283\u001b[39m \u001b[38;5;250m\u001b[39m\u001b[33;03m\"\"\"\u001b[39;00m\n\u001b[32m    284\u001b[39m \u001b[33;03mLazy-import wrapper for stdlib urlopen, as that imports a big chunk of\u001b[39;00m\n\u001b[32m    285\u001b[39m \u001b[33;03mthe stdlib.\u001b[39;00m\n\u001b[32m    286\u001b[39m \u001b[33;03m\"\"\"\u001b[39;00m\n\u001b[32m    287\u001b[39m \u001b[38;5;28;01mimport\u001b[39;00m\u001b[38;5;250m \u001b[39m\u001b[34;01murllib\u001b[39;00m\u001b[34;01m.\u001b[39;00m\u001b[34;01mrequest\u001b[39;00m\n\u001b[32m--> \u001b[39m\u001b[32m289\u001b[39m \u001b[38;5;28;01mreturn\u001b[39;00m \u001b[43murllib\u001b[49m\u001b[43m.\u001b[49m\u001b[43mrequest\u001b[49m\u001b[43m.\u001b[49m\u001b[43murlopen\u001b[49m\u001b[43m(\u001b[49m\u001b[43m*\u001b[49m\u001b[43margs\u001b[49m\u001b[43m,\u001b[49m\u001b[43m \u001b[49m\u001b[43m*\u001b[49m\u001b[43m*\u001b[49m\u001b[43mkwargs\u001b[49m\u001b[43m)\u001b[49m\n",
      "\u001b[36mFile \u001b[39m\u001b[32m/Library/Frameworks/Python.framework/Versions/3.13/lib/python3.13/urllib/request.py:189\u001b[39m, in \u001b[36murlopen\u001b[39m\u001b[34m(url, data, timeout, context)\u001b[39m\n\u001b[32m    187\u001b[39m \u001b[38;5;28;01melse\u001b[39;00m:\n\u001b[32m    188\u001b[39m     opener = _opener\n\u001b[32m--> \u001b[39m\u001b[32m189\u001b[39m \u001b[38;5;28;01mreturn\u001b[39;00m \u001b[43mopener\u001b[49m\u001b[43m.\u001b[49m\u001b[43mopen\u001b[49m\u001b[43m(\u001b[49m\u001b[43murl\u001b[49m\u001b[43m,\u001b[49m\u001b[43m \u001b[49m\u001b[43mdata\u001b[49m\u001b[43m,\u001b[49m\u001b[43m \u001b[49m\u001b[43mtimeout\u001b[49m\u001b[43m)\u001b[49m\n",
      "\u001b[36mFile \u001b[39m\u001b[32m/Library/Frameworks/Python.framework/Versions/3.13/lib/python3.13/urllib/request.py:495\u001b[39m, in \u001b[36mOpenerDirector.open\u001b[39m\u001b[34m(self, fullurl, data, timeout)\u001b[39m\n\u001b[32m    493\u001b[39m \u001b[38;5;28;01mfor\u001b[39;00m processor \u001b[38;5;129;01min\u001b[39;00m \u001b[38;5;28mself\u001b[39m.process_response.get(protocol, []):\n\u001b[32m    494\u001b[39m     meth = \u001b[38;5;28mgetattr\u001b[39m(processor, meth_name)\n\u001b[32m--> \u001b[39m\u001b[32m495\u001b[39m     response = \u001b[43mmeth\u001b[49m\u001b[43m(\u001b[49m\u001b[43mreq\u001b[49m\u001b[43m,\u001b[49m\u001b[43m \u001b[49m\u001b[43mresponse\u001b[49m\u001b[43m)\u001b[49m\n\u001b[32m    497\u001b[39m \u001b[38;5;28;01mreturn\u001b[39;00m response\n",
      "\u001b[36mFile \u001b[39m\u001b[32m/Library/Frameworks/Python.framework/Versions/3.13/lib/python3.13/urllib/request.py:604\u001b[39m, in \u001b[36mHTTPErrorProcessor.http_response\u001b[39m\u001b[34m(self, request, response)\u001b[39m\n\u001b[32m    601\u001b[39m \u001b[38;5;66;03m# According to RFC 2616, \"2xx\" code indicates that the client's\u001b[39;00m\n\u001b[32m    602\u001b[39m \u001b[38;5;66;03m# request was successfully received, understood, and accepted.\u001b[39;00m\n\u001b[32m    603\u001b[39m \u001b[38;5;28;01mif\u001b[39;00m \u001b[38;5;129;01mnot\u001b[39;00m (\u001b[32m200\u001b[39m <= code < \u001b[32m300\u001b[39m):\n\u001b[32m--> \u001b[39m\u001b[32m604\u001b[39m     response = \u001b[38;5;28;43mself\u001b[39;49m\u001b[43m.\u001b[49m\u001b[43mparent\u001b[49m\u001b[43m.\u001b[49m\u001b[43merror\u001b[49m\u001b[43m(\u001b[49m\n\u001b[32m    605\u001b[39m \u001b[43m        \u001b[49m\u001b[33;43m'\u001b[39;49m\u001b[33;43mhttp\u001b[39;49m\u001b[33;43m'\u001b[39;49m\u001b[43m,\u001b[49m\u001b[43m \u001b[49m\u001b[43mrequest\u001b[49m\u001b[43m,\u001b[49m\u001b[43m \u001b[49m\u001b[43mresponse\u001b[49m\u001b[43m,\u001b[49m\u001b[43m \u001b[49m\u001b[43mcode\u001b[49m\u001b[43m,\u001b[49m\u001b[43m \u001b[49m\u001b[43mmsg\u001b[49m\u001b[43m,\u001b[49m\u001b[43m \u001b[49m\u001b[43mhdrs\u001b[49m\u001b[43m)\u001b[49m\n\u001b[32m    607\u001b[39m \u001b[38;5;28;01mreturn\u001b[39;00m response\n",
      "\u001b[36mFile \u001b[39m\u001b[32m/Library/Frameworks/Python.framework/Versions/3.13/lib/python3.13/urllib/request.py:527\u001b[39m, in \u001b[36mOpenerDirector.error\u001b[39m\u001b[34m(self, proto, *args)\u001b[39m\n\u001b[32m    525\u001b[39m     http_err = \u001b[32m0\u001b[39m\n\u001b[32m    526\u001b[39m args = (\u001b[38;5;28mdict\u001b[39m, proto, meth_name) + args\n\u001b[32m--> \u001b[39m\u001b[32m527\u001b[39m result = \u001b[38;5;28;43mself\u001b[39;49m\u001b[43m.\u001b[49m\u001b[43m_call_chain\u001b[49m\u001b[43m(\u001b[49m\u001b[43m*\u001b[49m\u001b[43margs\u001b[49m\u001b[43m)\u001b[49m\n\u001b[32m    528\u001b[39m \u001b[38;5;28;01mif\u001b[39;00m result:\n\u001b[32m    529\u001b[39m     \u001b[38;5;28;01mreturn\u001b[39;00m result\n",
      "\u001b[36mFile \u001b[39m\u001b[32m/Library/Frameworks/Python.framework/Versions/3.13/lib/python3.13/urllib/request.py:466\u001b[39m, in \u001b[36mOpenerDirector._call_chain\u001b[39m\u001b[34m(self, chain, kind, meth_name, *args)\u001b[39m\n\u001b[32m    464\u001b[39m \u001b[38;5;28;01mfor\u001b[39;00m handler \u001b[38;5;129;01min\u001b[39;00m handlers:\n\u001b[32m    465\u001b[39m     func = \u001b[38;5;28mgetattr\u001b[39m(handler, meth_name)\n\u001b[32m--> \u001b[39m\u001b[32m466\u001b[39m     result = \u001b[43mfunc\u001b[49m\u001b[43m(\u001b[49m\u001b[43m*\u001b[49m\u001b[43margs\u001b[49m\u001b[43m)\u001b[49m\n\u001b[32m    467\u001b[39m     \u001b[38;5;28;01mif\u001b[39;00m result \u001b[38;5;129;01mis\u001b[39;00m \u001b[38;5;129;01mnot\u001b[39;00m \u001b[38;5;28;01mNone\u001b[39;00m:\n\u001b[32m    468\u001b[39m         \u001b[38;5;28;01mreturn\u001b[39;00m result\n",
      "\u001b[36mFile \u001b[39m\u001b[32m/Library/Frameworks/Python.framework/Versions/3.13/lib/python3.13/urllib/request.py:720\u001b[39m, in \u001b[36mHTTPRedirectHandler.http_error_302\u001b[39m\u001b[34m(self, req, fp, code, msg, headers)\u001b[39m\n\u001b[32m    717\u001b[39m fp.read()\n\u001b[32m    718\u001b[39m fp.close()\n\u001b[32m--> \u001b[39m\u001b[32m720\u001b[39m \u001b[38;5;28;01mreturn\u001b[39;00m \u001b[38;5;28;43mself\u001b[39;49m\u001b[43m.\u001b[49m\u001b[43mparent\u001b[49m\u001b[43m.\u001b[49m\u001b[43mopen\u001b[49m\u001b[43m(\u001b[49m\u001b[43mnew\u001b[49m\u001b[43m,\u001b[49m\u001b[43m \u001b[49m\u001b[43mtimeout\u001b[49m\u001b[43m=\u001b[49m\u001b[43mreq\u001b[49m\u001b[43m.\u001b[49m\u001b[43mtimeout\u001b[49m\u001b[43m)\u001b[49m\n",
      "\u001b[36mFile \u001b[39m\u001b[32m/Library/Frameworks/Python.framework/Versions/3.13/lib/python3.13/urllib/request.py:495\u001b[39m, in \u001b[36mOpenerDirector.open\u001b[39m\u001b[34m(self, fullurl, data, timeout)\u001b[39m\n\u001b[32m    493\u001b[39m \u001b[38;5;28;01mfor\u001b[39;00m processor \u001b[38;5;129;01min\u001b[39;00m \u001b[38;5;28mself\u001b[39m.process_response.get(protocol, []):\n\u001b[32m    494\u001b[39m     meth = \u001b[38;5;28mgetattr\u001b[39m(processor, meth_name)\n\u001b[32m--> \u001b[39m\u001b[32m495\u001b[39m     response = \u001b[43mmeth\u001b[49m\u001b[43m(\u001b[49m\u001b[43mreq\u001b[49m\u001b[43m,\u001b[49m\u001b[43m \u001b[49m\u001b[43mresponse\u001b[49m\u001b[43m)\u001b[49m\n\u001b[32m    497\u001b[39m \u001b[38;5;28;01mreturn\u001b[39;00m response\n",
      "\u001b[36mFile \u001b[39m\u001b[32m/Library/Frameworks/Python.framework/Versions/3.13/lib/python3.13/urllib/request.py:604\u001b[39m, in \u001b[36mHTTPErrorProcessor.http_response\u001b[39m\u001b[34m(self, request, response)\u001b[39m\n\u001b[32m    601\u001b[39m \u001b[38;5;66;03m# According to RFC 2616, \"2xx\" code indicates that the client's\u001b[39;00m\n\u001b[32m    602\u001b[39m \u001b[38;5;66;03m# request was successfully received, understood, and accepted.\u001b[39;00m\n\u001b[32m    603\u001b[39m \u001b[38;5;28;01mif\u001b[39;00m \u001b[38;5;129;01mnot\u001b[39;00m (\u001b[32m200\u001b[39m <= code < \u001b[32m300\u001b[39m):\n\u001b[32m--> \u001b[39m\u001b[32m604\u001b[39m     response = \u001b[38;5;28;43mself\u001b[39;49m\u001b[43m.\u001b[49m\u001b[43mparent\u001b[49m\u001b[43m.\u001b[49m\u001b[43merror\u001b[49m\u001b[43m(\u001b[49m\n\u001b[32m    605\u001b[39m \u001b[43m        \u001b[49m\u001b[33;43m'\u001b[39;49m\u001b[33;43mhttp\u001b[39;49m\u001b[33;43m'\u001b[39;49m\u001b[43m,\u001b[49m\u001b[43m \u001b[49m\u001b[43mrequest\u001b[49m\u001b[43m,\u001b[49m\u001b[43m \u001b[49m\u001b[43mresponse\u001b[49m\u001b[43m,\u001b[49m\u001b[43m \u001b[49m\u001b[43mcode\u001b[49m\u001b[43m,\u001b[49m\u001b[43m \u001b[49m\u001b[43mmsg\u001b[49m\u001b[43m,\u001b[49m\u001b[43m \u001b[49m\u001b[43mhdrs\u001b[49m\u001b[43m)\u001b[49m\n\u001b[32m    607\u001b[39m \u001b[38;5;28;01mreturn\u001b[39;00m response\n",
      "\u001b[36mFile \u001b[39m\u001b[32m/Library/Frameworks/Python.framework/Versions/3.13/lib/python3.13/urllib/request.py:533\u001b[39m, in \u001b[36mOpenerDirector.error\u001b[39m\u001b[34m(self, proto, *args)\u001b[39m\n\u001b[32m    531\u001b[39m \u001b[38;5;28;01mif\u001b[39;00m http_err:\n\u001b[32m    532\u001b[39m     args = (\u001b[38;5;28mdict\u001b[39m, \u001b[33m'\u001b[39m\u001b[33mdefault\u001b[39m\u001b[33m'\u001b[39m, \u001b[33m'\u001b[39m\u001b[33mhttp_error_default\u001b[39m\u001b[33m'\u001b[39m) + orig_args\n\u001b[32m--> \u001b[39m\u001b[32m533\u001b[39m     \u001b[38;5;28;01mreturn\u001b[39;00m \u001b[38;5;28;43mself\u001b[39;49m\u001b[43m.\u001b[49m\u001b[43m_call_chain\u001b[49m\u001b[43m(\u001b[49m\u001b[43m*\u001b[49m\u001b[43margs\u001b[49m\u001b[43m)\u001b[49m\n",
      "\u001b[36mFile \u001b[39m\u001b[32m/Library/Frameworks/Python.framework/Versions/3.13/lib/python3.13/urllib/request.py:466\u001b[39m, in \u001b[36mOpenerDirector._call_chain\u001b[39m\u001b[34m(self, chain, kind, meth_name, *args)\u001b[39m\n\u001b[32m    464\u001b[39m \u001b[38;5;28;01mfor\u001b[39;00m handler \u001b[38;5;129;01min\u001b[39;00m handlers:\n\u001b[32m    465\u001b[39m     func = \u001b[38;5;28mgetattr\u001b[39m(handler, meth_name)\n\u001b[32m--> \u001b[39m\u001b[32m466\u001b[39m     result = \u001b[43mfunc\u001b[49m\u001b[43m(\u001b[49m\u001b[43m*\u001b[49m\u001b[43margs\u001b[49m\u001b[43m)\u001b[49m\n\u001b[32m    467\u001b[39m     \u001b[38;5;28;01mif\u001b[39;00m result \u001b[38;5;129;01mis\u001b[39;00m \u001b[38;5;129;01mnot\u001b[39;00m \u001b[38;5;28;01mNone\u001b[39;00m:\n\u001b[32m    468\u001b[39m         \u001b[38;5;28;01mreturn\u001b[39;00m result\n",
      "\u001b[36mFile \u001b[39m\u001b[32m/Library/Frameworks/Python.framework/Versions/3.13/lib/python3.13/urllib/request.py:613\u001b[39m, in \u001b[36mHTTPDefaultErrorHandler.http_error_default\u001b[39m\u001b[34m(self, req, fp, code, msg, hdrs)\u001b[39m\n\u001b[32m    612\u001b[39m \u001b[38;5;28;01mdef\u001b[39;00m\u001b[38;5;250m \u001b[39m\u001b[34mhttp_error_default\u001b[39m(\u001b[38;5;28mself\u001b[39m, req, fp, code, msg, hdrs):\n\u001b[32m--> \u001b[39m\u001b[32m613\u001b[39m     \u001b[38;5;28;01mraise\u001b[39;00m HTTPError(req.full_url, code, msg, hdrs, fp)\n",
      "\u001b[31mHTTPError\u001b[39m: HTTP Error 400: Bad Request"
     ]
    }
   ],
   "source": [
    "from pathlib import Path\n",
    "\n",
    "# Path.cwd() gives you the *current working directory* (where the notebook is).\n",
    "# Because the notebook lives in \"notebooks/\", we go one level up with .parent\n",
    "# that lands us in the project root folder: hrv-readiness-study/\n",
    "ROOT = Path.cwd().parent  \n",
    "\n",
    "# Build the path to the \"data/raw\" folder inside the project root.\n",
    "# This is equivalent to writing \"../data/raw\" if you're in notebooks/,\n",
    "# but much clearer and more stable.\n",
    "RAW = ROOT / \"data\" / \"raw\"  \n",
    "\n",
    "# Read the CSV file stored in data/raw. \n",
    "# RAW / \"wellness.csv\" joins the folder path with the filename safely,\n",
    "# so you don’t have to worry about slashes on different OSes.\n",
    "hrv = pd.read_csv(\"https://docs.google.com/spreadsheets/d/e/2PACX-1vQdQNqbZ2h-NgflUUbKUbLiCXJkcCne-qIp-JWaQE_2XZhFdljkkANmcHM4obQTcbNI8y4_U5cc3xz_/pub?gid=1912488080&single=true&output=csv\")\n",
    "\n",
    "# freeze a copy of the csv file to RAW folder\n",
    "from datetime import date \n",
    "today = date.today()\n",
    "# Turn it into a string like \"2025-09-26\"\n",
    "today_str = today.strftime(\"%Y-%m-%d\")\n",
    "# Build the filename using that string\n",
    "filename = f\"wellness_{today}.csv\"\n",
    "# Join it with your RAW folder path\n",
    "path = RAW / filename\n",
    "# Save the DataFrame snapshot\n",
    "hrv.to_csv(path, index=False)\n",
    "# Quick check\n",
    "print(\"Saved snapshot to:\", path)\n",
    "hrv\n"
   ]
  },
  {
   "cell_type": "code",
   "execution_count": null,
   "id": "350804b2",
   "metadata": {},
   "outputs": [
    {
     "data": {
      "text/html": [
       "<div>\n",
       "<style scoped>\n",
       "    .dataframe tbody tr th:only-of-type {\n",
       "        vertical-align: middle;\n",
       "    }\n",
       "\n",
       "    .dataframe tbody tr th {\n",
       "        vertical-align: top;\n",
       "    }\n",
       "\n",
       "    .dataframe thead th {\n",
       "        text-align: right;\n",
       "    }\n",
       "</style>\n",
       "<table border=\"1\" class=\"dataframe\">\n",
       "  <thead>\n",
       "    <tr style=\"text-align: right;\">\n",
       "      <th></th>\n",
       "      <th>timestamp</th>\n",
       "      <th>date</th>\n",
       "      <th>feeling_score</th>\n",
       "      <th>recovery_status</th>\n",
       "      <th>recovery_score</th>\n",
       "      <th>sleep_score</th>\n",
       "      <th>sleep_time</th>\n",
       "      <th>hrv</th>\n",
       "      <th>rhr</th>\n",
       "      <th>calories</th>\n",
       "      <th>train_rest</th>\n",
       "      <th>trained_yn</th>\n",
       "      <th>training_score</th>\n",
       "      <th>notes</th>\n",
       "    </tr>\n",
       "  </thead>\n",
       "  <tbody>\n",
       "    <tr>\n",
       "      <th>0</th>\n",
       "      <td>9/26/2025 11:10:28</td>\n",
       "      <td>9/26/2025</td>\n",
       "      <td>3</td>\n",
       "      <td>Green</td>\n",
       "      <td>91</td>\n",
       "      <td>85</td>\n",
       "      <td>6:15</td>\n",
       "      <td>36</td>\n",
       "      <td>62</td>\n",
       "      <td>Deficit</td>\n",
       "      <td>Training day</td>\n",
       "      <td>Trained</td>\n",
       "      <td>Below average</td>\n",
       "      <td>Felt somewhat sick all day. Very drained. Low ...</td>\n",
       "    </tr>\n",
       "    <tr>\n",
       "      <th>1</th>\n",
       "      <td>9/27/2025 6:44:05</td>\n",
       "      <td>9/27/2025</td>\n",
       "      <td>4</td>\n",
       "      <td>Yellow</td>\n",
       "      <td>61</td>\n",
       "      <td>85</td>\n",
       "      <td>7:03</td>\n",
       "      <td>28</td>\n",
       "      <td>62</td>\n",
       "      <td>Deficit</td>\n",
       "      <td>Rest day</td>\n",
       "      <td>Rested</td>\n",
       "      <td>NaN</td>\n",
       "      <td>Tired, lethargic, sleepy.</td>\n",
       "    </tr>\n",
       "    <tr>\n",
       "      <th>2</th>\n",
       "      <td>9/28/2025 9:55:31</td>\n",
       "      <td>9/28/2025</td>\n",
       "      <td>5</td>\n",
       "      <td>Yellow</td>\n",
       "      <td>37</td>\n",
       "      <td>82</td>\n",
       "      <td>6:35</td>\n",
       "      <td>23</td>\n",
       "      <td>66</td>\n",
       "      <td>Maintenance</td>\n",
       "      <td>Training day</td>\n",
       "      <td>Trained</td>\n",
       "      <td>Average</td>\n",
       "      <td>Joint pain. Fatigue.</td>\n",
       "    </tr>\n",
       "  </tbody>\n",
       "</table>\n",
       "</div>"
      ],
      "text/plain": [
       "            timestamp       date  feeling_score recovery_status  \\\n",
       "0  9/26/2025 11:10:28  9/26/2025              3           Green   \n",
       "1   9/27/2025 6:44:05  9/27/2025              4          Yellow   \n",
       "2   9/28/2025 9:55:31  9/28/2025              5          Yellow   \n",
       "\n",
       "   recovery_score  sleep_score sleep_time  hrv  rhr     calories  \\\n",
       "0              91           85       6:15   36   62      Deficit   \n",
       "1              61           85       7:03   28   62      Deficit   \n",
       "2              37           82       6:35   23   66  Maintenance   \n",
       "\n",
       "     train_rest trained_yn training_score  \\\n",
       "0  Training day    Trained  Below average   \n",
       "1      Rest day     Rested            NaN   \n",
       "2  Training day    Trained        Average   \n",
       "\n",
       "                                               notes  \n",
       "0  Felt somewhat sick all day. Very drained. Low ...  \n",
       "1                         Tired, lethargic, sleepy.   \n",
       "2                               Joint pain. Fatigue.  "
      ]
     },
     "execution_count": 29,
     "metadata": {},
     "output_type": "execute_result"
    }
   ],
   "source": [
    "# begin cleaning the data\n",
    "\n",
    "#rename columns\n",
    "hrv_clean = hrv.rename(columns={\"Timestamp\": \"timestamp\", \"Today's Date\": \"date\",\n",
    "    \"How did you feel today? (1 worst, 10 best)\": \"feeling_score\",\n",
    "    \"Whoop recovery status\": \"recovery_status\",\n",
    "    \"Whoop recovery score%\": \"recovery_score\",\n",
    "    \"Whoop sleep score%\": \"sleep_score\",\n",
    "    \"RHR\": \"rhr\",\n",
    "    \"HRV\": \"hrv\",\n",
    "    \"Calories\": \"calories\",\n",
    "    \"Whoop sleep score %\": \"sleep_score\",\n",
    "    \"Whoop sleep hours\": \"sleep_time\",\n",
    "    \"Training day or rest day?\": \"train_rest\",\n",
    "    \"Did you train or did you rest?\": \"trained_yn\",\n",
    "    \"Training performance?\": \"training_score\",\n",
    "    \"Any notes?\": \"notes\",})\n",
    "\n",
    "hrv_clean"
   ]
  },
  {
   "cell_type": "code",
   "execution_count": null,
   "id": "63a052e4",
   "metadata": {},
   "outputs": [
    {
     "name": "stdout",
     "output_type": "stream",
     "text": [
      "<class 'pandas.core.frame.DataFrame'>\n",
      "RangeIndex: 3 entries, 0 to 2\n",
      "Data columns (total 14 columns):\n",
      " #   Column           Non-Null Count  Dtype \n",
      "---  ------           --------------  ----- \n",
      " 0   timestamp        3 non-null      object\n",
      " 1   date             3 non-null      object\n",
      " 2   feeling_score    3 non-null      int64 \n",
      " 3   recovery_status  3 non-null      object\n",
      " 4   recovery_score   3 non-null      int64 \n",
      " 5   sleep_score      3 non-null      int64 \n",
      " 6   sleep_time       3 non-null      object\n",
      " 7   hrv              3 non-null      int64 \n",
      " 8   rhr              3 non-null      int64 \n",
      " 9   calories         3 non-null      object\n",
      " 10  train_rest       3 non-null      object\n",
      " 11  trained_yn       3 non-null      object\n",
      " 12  training_score   2 non-null      object\n",
      " 13  notes            3 non-null      object\n",
      "dtypes: int64(5), object(9)\n",
      "memory usage: 468.0+ bytes\n"
     ]
    }
   ],
   "source": [
    "# check dtypes\n",
    "hrv_clean.info()"
   ]
  },
  {
   "cell_type": "code",
   "execution_count": null,
   "id": "c2ce6932",
   "metadata": {},
   "outputs": [
    {
     "data": {
      "text/plain": [
       "dtype('<M8[ns]')"
      ]
     },
     "execution_count": 31,
     "metadata": {},
     "output_type": "execute_result"
    }
   ],
   "source": [
    "# turn date into datetime \n",
    "hrv_clean[\"date\"] = pd.to_datetime(hrv_clean[\"date\"], errors=\"raise\")\n",
    "\n",
    "# check output \n",
    "hrv_clean[\"date\"].dtype\n"
   ]
  },
  {
   "cell_type": "code",
   "execution_count": null,
   "id": "f450193a",
   "metadata": {},
   "outputs": [
    {
     "data": {
      "text/html": [
       "<div>\n",
       "<style scoped>\n",
       "    .dataframe tbody tr th:only-of-type {\n",
       "        vertical-align: middle;\n",
       "    }\n",
       "\n",
       "    .dataframe tbody tr th {\n",
       "        vertical-align: top;\n",
       "    }\n",
       "\n",
       "    .dataframe thead th {\n",
       "        text-align: right;\n",
       "    }\n",
       "</style>\n",
       "<table border=\"1\" class=\"dataframe\">\n",
       "  <thead>\n",
       "    <tr style=\"text-align: right;\">\n",
       "      <th></th>\n",
       "      <th>timestamp</th>\n",
       "      <th>date</th>\n",
       "      <th>feeling_score</th>\n",
       "      <th>recovery_status</th>\n",
       "      <th>recovery_score</th>\n",
       "      <th>sleep_score</th>\n",
       "      <th>sleep_time</th>\n",
       "      <th>hrv</th>\n",
       "      <th>rhr</th>\n",
       "      <th>calories</th>\n",
       "      <th>train_rest</th>\n",
       "      <th>trained_yn</th>\n",
       "      <th>training_score</th>\n",
       "      <th>notes</th>\n",
       "      <th>year</th>\n",
       "      <th>month</th>\n",
       "      <th>day</th>\n",
       "    </tr>\n",
       "  </thead>\n",
       "  <tbody>\n",
       "    <tr>\n",
       "      <th>0</th>\n",
       "      <td>9/26/2025 11:10:28</td>\n",
       "      <td>2025-09-26</td>\n",
       "      <td>3</td>\n",
       "      <td>Green</td>\n",
       "      <td>91</td>\n",
       "      <td>85</td>\n",
       "      <td>6:15</td>\n",
       "      <td>36</td>\n",
       "      <td>62</td>\n",
       "      <td>Deficit</td>\n",
       "      <td>Training day</td>\n",
       "      <td>Trained</td>\n",
       "      <td>Below average</td>\n",
       "      <td>Felt somewhat sick all day. Very drained. Low ...</td>\n",
       "      <td>2025</td>\n",
       "      <td>9</td>\n",
       "      <td>26</td>\n",
       "    </tr>\n",
       "  </tbody>\n",
       "</table>\n",
       "</div>"
      ],
      "text/plain": [
       "            timestamp       date  feeling_score recovery_status  \\\n",
       "0  9/26/2025 11:10:28 2025-09-26              3           Green   \n",
       "\n",
       "   recovery_score  sleep_score sleep_time  hrv  rhr calories    train_rest  \\\n",
       "0              91           85       6:15   36   62  Deficit  Training day   \n",
       "\n",
       "  trained_yn training_score  \\\n",
       "0    Trained  Below average   \n",
       "\n",
       "                                               notes  year  month  day  \n",
       "0  Felt somewhat sick all day. Very drained. Low ...  2025      9   26  "
      ]
     },
     "execution_count": 32,
     "metadata": {},
     "output_type": "execute_result"
    }
   ],
   "source": [
    "# extract year and date\n",
    "hrv_clean[\"year\"] = hrv_clean[\"date\"].dt.year\n",
    "hrv_clean[\"month\"] = hrv_clean[\"date\"].dt.month\n",
    "hrv_clean[\"day\"] = hrv_clean[\"date\"].dt.day\n",
    "\n",
    "# filter by ranges\n",
    "hrv_clean[hrv_clean[\"date\"] == \"26-09-25\"]\n"
   ]
  },
  {
   "cell_type": "code",
   "execution_count": 23,
   "id": "cb27eb74",
   "metadata": {},
   "outputs": [
    {
     "data": {
      "text/plain": [
       "6.25"
      ]
     },
     "execution_count": 23,
     "metadata": {},
     "output_type": "execute_result"
    }
   ],
   "source": [
    "def clean_time(h_to_m):\n",
    "    parts = h_to_m.split(\":\")  # Step 1: Split the string\n",
    "    hours = int(parts[0])       # Step 2: Get hours (first part)\n",
    "    minutes = int(parts[1])     # Step 3: Get minutes (second part)\n",
    "    min_time = (hours * 60) + minutes\n",
    "    decimal_time = min_time / 60\n",
    "    return decimal_time\n",
    "            \n",
    "\n",
    "total_time = \"6:15\" \n",
    "clean_time(total_time)"
   ]
  },
  {
   "cell_type": "code",
   "execution_count": 24,
   "id": "22bbea63",
   "metadata": {},
   "outputs": [
    {
     "ename": "NameError",
     "evalue": "name 'hrv_clean' is not defined",
     "output_type": "error",
     "traceback": [
      "\u001b[31m---------------------------------------------------------------------------\u001b[39m",
      "\u001b[31mNameError\u001b[39m                                 Traceback (most recent call last)",
      "\u001b[36mCell\u001b[39m\u001b[36m \u001b[39m\u001b[32mIn[24]\u001b[39m\u001b[32m, line 1\u001b[39m\n\u001b[32m----> \u001b[39m\u001b[32m1\u001b[39m hrv_clean[\u001b[33m\"\u001b[39m\u001b[33msleep_hours_decimal\u001b[39m\u001b[33m\"\u001b[39m] = \u001b[43mhrv_clean\u001b[49m[\u001b[33m\"\u001b[39m\u001b[33msleep_time\u001b[39m\u001b[33m\"\u001b[39m].apply(clean_time)\n",
      "\u001b[31mNameError\u001b[39m: name 'hrv_clean' is not defined"
     ]
    }
   ],
   "source": [
    "hrv_clean[\"sleep_hours_decimal\"] = hrv_clean[\"sleep_time\"].apply(clean_time)"
   ]
  },
  {
   "cell_type": "code",
   "execution_count": null,
   "id": "2b475b03",
   "metadata": {},
   "outputs": [
    {
     "name": "stdout",
     "output_type": "stream",
     "text": [
      "<class 'pandas.core.frame.DataFrame'>\n",
      "RangeIndex: 3 entries, 0 to 2\n",
      "Data columns (total 17 columns):\n",
      " #   Column           Non-Null Count  Dtype         \n",
      "---  ------           --------------  -----         \n",
      " 0   timestamp        3 non-null      object        \n",
      " 1   date             3 non-null      datetime64[ns]\n",
      " 2   feeling_score    3 non-null      int64         \n",
      " 3   recovery_status  3 non-null      object        \n",
      " 4   recovery_score   3 non-null      int64         \n",
      " 5   sleep_score      3 non-null      int64         \n",
      " 6   sleep_time       3 non-null      object        \n",
      " 7   hrv              3 non-null      int64         \n",
      " 8   rhr              3 non-null      int64         \n",
      " 9   calories         3 non-null      object        \n",
      " 10  train_rest       3 non-null      object        \n",
      " 11  trained_yn       3 non-null      object        \n",
      " 12  training_score   2 non-null      object        \n",
      " 13  notes            3 non-null      object        \n",
      " 14  year             3 non-null      int32         \n",
      " 15  month            3 non-null      int32         \n",
      " 16  day              3 non-null      int32         \n",
      "dtypes: datetime64[ns](1), int32(3), int64(5), object(8)\n",
      "memory usage: 504.0+ bytes\n"
     ]
    }
   ],
   "source": [
    "hrv_clean.info()"
   ]
  },
  {
   "cell_type": "code",
   "execution_count": null,
   "id": "9f6f3355",
   "metadata": {},
   "outputs": [],
   "source": [
    "# turn numerical objects into intergers\n",
    "hrv_clean[\"feeling_score\"] = pd.to_numeric(hrv_clean[\"feeling_score\"], errors=\"coerce\") #feeling score\n",
    "hrv_clean[\"rhr\"] = pd.to_numeric(hrv_clean[\"rhr\"], errors=\"coerce\") #rhr\n",
    "hrv_clean[\"sleep_score\"] = pd.to_numeric(hrv_clean[\"sleep_score\"], errors=\"coerce\")\n",
    "hrv_clean[\"sleep_hhmm\"] = pd.to_numeric(hrv_clean[\"rhr\"], errors=\"coerce\") #rhr\n",
    "hrv_clean[\"sleep_score\"] = pd.to_numeric(hrv_clean[\"sleep_score\"], errors=\"coerce\")\n",
    "\n"
   ]
  },
  {
   "cell_type": "code",
   "execution_count": null,
   "id": "ea126ebd",
   "metadata": {},
   "outputs": [],
   "source": [
    "# use matplot lib to have plots in ipynb\n",
    "# plotly: allows interactive charts, spins up small web server like streamlit "
   ]
  },
  {
   "cell_type": "markdown",
   "id": "4775a3ec",
   "metadata": {},
   "source": [
    "## Import workout logs"
   ]
  },
  {
   "cell_type": "code",
   "execution_count": null,
   "id": "3f756bf2",
   "metadata": {},
   "outputs": [
    {
     "name": "stdout",
     "output_type": "stream",
     "text": [
      "['Upper MP B\\n', 'Sun, Sep 28, 2025\\n', '\\n', 'Bench Press (Barbell)\\n', 'Set 1 : 40 kg  x 9\\n', 'Set 2 : 45 kg  x 10\\n', 'Set 3 : 55 kg  x 7\\n', '\\n', 'Chest Supported Row (Machine)\\n', 'Set 1 : 35 kg  x 7\\n', 'Set 2 : 35 kg  x 8\\n', 'Set 3 : 35 kg  x 10\\n', '\\n', 'Lat Pulldown\\n', 'Set 1 : 50 kg  x 7\\n', 'Set 2 : 55 kg  x 9\\n', 'Set 3 : 60 kg  x 8\\n', '\\n', 'Lateral Raise (Dumbbell)\\n', 'Set 1 : 5 kg  x 8\\n']\n"
     ]
    }
   ],
   "source": [
    "with open(\"../data/raw/workouts/sept_28_25.txt\") as f:\n",
    "    lines = f.readlines()\n",
    "\n",
    "print(lines[:20])\n"
   ]
  },
  {
   "cell_type": "code",
   "execution_count": null,
   "id": "bfc8f9cb",
   "metadata": {},
   "outputs": [
    {
     "name": "stdout",
     "output_type": "stream",
     "text": [
      "Upper MP B\n",
      "Sun, Sep 28, 2025\n",
      "\n",
      "Bench Press (Barbell)\n",
      "Set 1 : 40 kg  x 9\n",
      "Set 2 : 45 kg  x 10\n",
      "Set 3 : 55 kg  x 7\n",
      "\n",
      "Chest Supported Row (Machine)\n",
      "Set 1 : 35 kg  x 7\n",
      "Set 2 : 35 kg  x 8\n",
      "Set 3 : 35 kg  x 10\n",
      "\n",
      "Lat Pulldown\n",
      "Set 1 : 50 kg  x 7\n",
      "Set 2 : 55 kg  x 9\n",
      "Set 3 : 60 kg  x 8\n",
      "\n",
      "Lateral Raise (Dumbbell)\n",
      "Set 1 : 5 kg  x 8\n",
      "Set 2 : 5 kg  x 8\n",
      "Set 3 : 5 kg  x 11\n",
      "Set 4 : 5 kg  x 13\n",
      "\n",
      "Reverse Pec Deck\n",
      "Set 1 : 25 kg  x 10\n",
      "Set 2 : 35 kg  x 9\n",
      "Set 3 : 45 kg  x 7\n",
      "\n",
      "Overhead Tricep Extension (Cable)\n",
      "Set 1 : 25 kg  x 10\n",
      "Set 2 : 35 kg  x 6\n",
      "\n"
     ]
    }
   ],
   "source": [
    "for line in lines:\n",
    "    cleaned = line.strip(\"\\n\")\n",
    "    print(cleaned)\n",
    "     "
   ]
  },
  {
   "cell_type": "code",
   "execution_count": null,
   "id": "d2ebb2b9",
   "metadata": {},
   "outputs": [
    {
     "name": "stdout",
     "output_type": "stream",
     "text": [
      "['09_28_25.txt', '09_26_25.txt']\n"
     ]
    }
   ],
   "source": [
    "from pathlib import Path\n",
    "\n",
    "# Path.cwd() gives you the *current working directory* (where the notebook is).\n",
    "# Because the notebook lives in \"notebooks/\", we go one level up with .parent\n",
    "# that lands us in the project root folder: hrv-readiness-study/\n",
    "ROOT = Path.cwd().parent  \n",
    "\n",
    "# Build the path to the \"data/raw\" folder inside the project root.\n",
    "# This is equivalent to writing \"../data/raw\" if you're in notebooks/,\n",
    "# but much clearer and more stable.\n",
    "WORKOUTS = ROOT / \"data\" / \"raw\" / \"workouts\"  \n",
    "\n",
    "WORKOUTS.mkdir(parents=True, exist_ok=True) # mkdir -> “make this folder.”\n",
    "# parents=True -> if any parent folders don’t exist yet (like data/ or data/raw/), create them too.\n",
    "# exist_ok=True -> don’t crash if the folder already exists; just carry on.\n",
    "\n",
    "list(WORKOUTS.glob(\"*.txt\")) # gives you Path objects. .glob is the method on the Path object\n",
    "\n",
    "print([p.name for p in WORKOUTS.glob(\"*.txt\")]) # .glob(\"*.txt\") → all .txt files in that folder.\n",
    "# (\"*.csv\") → all .csv files.\n",
    "# glob(\"2025-09-*.txt\") → all text files that start with that date pattern.\n",
    "\n"
   ]
  },
  {
   "cell_type": "code",
   "execution_count": null,
   "id": "5640cdc4",
   "metadata": {},
   "outputs": [
    {
     "name": "stdout",
     "output_type": "stream",
     "text": [
      "File: 09_28_25.txt\n",
      "First 15 lines:\n",
      "'Upper MP B'\n",
      "'Sun, Sep 28, 2025'\n",
      "''\n",
      "'Bench Press (Barbell)'\n",
      "'Set 1 : 40 kg  x 9'\n",
      "'Set 2 : 45 kg  x 10'\n",
      "'Set 3 : 55 kg  x 7'\n",
      "''\n",
      "'Chest Supported Row (Machine)'\n",
      "'Set 1 : 35 kg  x 7'\n",
      "'Set 2 : 35 kg  x 8'\n",
      "'Set 3 : 35 kg  x 10'\n",
      "''\n",
      "'Lat Pulldown'\n",
      "'Set 1 : 50 kg  x 7'\n"
     ]
    }
   ],
   "source": [
    "f = list(WORKOUTS.glob(\"*.txt\"))[0] # grab first file in workouts\n",
    "lines = f.read_text(encoding=\"utf-8\").splitlines() # Return a list of the lines in the string, breaking at line boundaries.\n",
    "\n",
    "print(\"File:\", f.name)\n",
    "print(\"First 15 lines:\")\n",
    "for line in lines[:15]:\n",
    "    print(repr(line)) # repr: shows the representation of the object. For strings, that means wrapping them in quotes and escaping things like \\n."
   ]
  },
  {
   "cell_type": "code",
   "execution_count": null,
   "id": "6878d48a",
   "metadata": {},
   "outputs": [],
   "source": []
  }
 ],
 "metadata": {
  "kernelspec": {
   "display_name": "hrv-readiness-study-py3.13",
   "language": "python",
   "name": "python3"
  },
  "language_info": {
   "codemirror_mode": {
    "name": "ipython",
    "version": 3
   },
   "file_extension": ".py",
   "mimetype": "text/x-python",
   "name": "python",
   "nbconvert_exporter": "python",
   "pygments_lexer": "ipython3",
   "version": "3.13.3"
  }
 },
 "nbformat": 4,
 "nbformat_minor": 5
}
