{
 "cells": [
  {
   "cell_type": "markdown",
   "id": "6ef9ab15",
   "metadata": {},
   "source": [
    "### Import data"
   ]
  },
  {
   "cell_type": "code",
   "execution_count": 2,
   "id": "2776a229",
   "metadata": {},
   "outputs": [],
   "source": [
    "import pandas as pd\n",
    "import numpy as np\n",
    "from pathlib import Path\n",
    "import matplotlib as map"
   ]
  },
  {
   "cell_type": "code",
   "execution_count": 3,
   "id": "6cd08f5e",
   "metadata": {},
   "outputs": [
    {
     "data": {
      "text/html": [
       "<div>\n",
       "<style scoped>\n",
       "    .dataframe tbody tr th:only-of-type {\n",
       "        vertical-align: middle;\n",
       "    }\n",
       "\n",
       "    .dataframe tbody tr th {\n",
       "        vertical-align: top;\n",
       "    }\n",
       "\n",
       "    .dataframe thead th {\n",
       "        text-align: right;\n",
       "    }\n",
       "</style>\n",
       "<table border=\"1\" class=\"dataframe\">\n",
       "  <thead>\n",
       "    <tr style=\"text-align: right;\">\n",
       "      <th></th>\n",
       "      <th>Timestamp</th>\n",
       "      <th>Today's Date</th>\n",
       "      <th>How did you feel today?</th>\n",
       "      <th>Whoop recovery score</th>\n",
       "      <th>Resting RHR</th>\n",
       "      <th>Calories</th>\n",
       "      <th>Whoop sleep score %</th>\n",
       "      <th>Whoop sleep hours</th>\n",
       "      <th>Trained?</th>\n",
       "      <th>Any notes?</th>\n",
       "    </tr>\n",
       "  </thead>\n",
       "  <tbody>\n",
       "    <tr>\n",
       "      <th>0</th>\n",
       "      <td>9/26/2025 11:10:28</td>\n",
       "      <td>9/26/2025</td>\n",
       "      <td>2</td>\n",
       "      <td>Green</td>\n",
       "      <td>62</td>\n",
       "      <td>Deficit</td>\n",
       "      <td>85</td>\n",
       "      <td>6:15</td>\n",
       "      <td>Yes</td>\n",
       "      <td>Felt somewhat sick all day. Very drained. Low ...</td>\n",
       "    </tr>\n",
       "  </tbody>\n",
       "</table>\n",
       "</div>"
      ],
      "text/plain": [
       "            Timestamp Today's Date  How did you feel today?  \\\n",
       "0  9/26/2025 11:10:28    9/26/2025                        2   \n",
       "\n",
       "  Whoop recovery score  Resting RHR Calories  Whoop sleep score %  \\\n",
       "0                Green           62  Deficit                   85   \n",
       "\n",
       "  Whoop sleep hours Trained?  \\\n",
       "0              6:15      Yes   \n",
       "\n",
       "                                          Any notes?  \n",
       "0  Felt somewhat sick all day. Very drained. Low ...  "
      ]
     },
     "execution_count": 3,
     "metadata": {},
     "output_type": "execute_result"
    }
   ],
   "source": [
    "from pathlib import Path\n",
    "\n",
    "# Path.cwd() gives you the *current working directory* (where the notebook is).\n",
    "# Because the notebook lives in \"notebooks/\", we go one level up with .parent\n",
    "# that lands us in the project root folder: hrv-readiness-study/\n",
    "ROOT = Path.cwd().parent  \n",
    "\n",
    "# Build the path to the \"data/raw\" folder inside the project root.\n",
    "# This is equivalent to writing \"../data/raw\" if you're in notebooks/,\n",
    "# but much clearer and more stable.\n",
    "RAW = ROOT / \"data\" / \"raw\"  \n",
    "\n",
    "# Read the CSV file stored in data/raw. \n",
    "# RAW / \"wellness.csv\" joins the folder path with the filename safely,\n",
    "# so you don’t have to worry about slashes on different OSes.\n",
    "hrv = pd.read_csv(RAW / \"wellness.csv\")\n",
    "\n",
    "hrv.head(2)\n"
   ]
  },
  {
   "cell_type": "code",
   "execution_count": 4,
   "id": "350804b2",
   "metadata": {},
   "outputs": [
    {
     "data": {
      "text/html": [
       "<div>\n",
       "<style scoped>\n",
       "    .dataframe tbody tr th:only-of-type {\n",
       "        vertical-align: middle;\n",
       "    }\n",
       "\n",
       "    .dataframe tbody tr th {\n",
       "        vertical-align: top;\n",
       "    }\n",
       "\n",
       "    .dataframe thead th {\n",
       "        text-align: right;\n",
       "    }\n",
       "</style>\n",
       "<table border=\"1\" class=\"dataframe\">\n",
       "  <thead>\n",
       "    <tr style=\"text-align: right;\">\n",
       "      <th></th>\n",
       "      <th>timestamp</th>\n",
       "      <th>date</th>\n",
       "      <th>feeling</th>\n",
       "      <th>whoop_status</th>\n",
       "      <th>rhr</th>\n",
       "      <th>calories</th>\n",
       "      <th>sleep_score</th>\n",
       "      <th>sleep_hhmm</th>\n",
       "      <th>trained</th>\n",
       "      <th>notes</th>\n",
       "    </tr>\n",
       "  </thead>\n",
       "  <tbody>\n",
       "    <tr>\n",
       "      <th>0</th>\n",
       "      <td>9/26/2025 11:10:28</td>\n",
       "      <td>9/26/2025</td>\n",
       "      <td>2</td>\n",
       "      <td>Green</td>\n",
       "      <td>62</td>\n",
       "      <td>Deficit</td>\n",
       "      <td>85</td>\n",
       "      <td>6:15</td>\n",
       "      <td>Yes</td>\n",
       "      <td>Felt somewhat sick all day. Very drained. Low ...</td>\n",
       "    </tr>\n",
       "  </tbody>\n",
       "</table>\n",
       "</div>"
      ],
      "text/plain": [
       "            timestamp       date  feeling whoop_status  rhr calories  \\\n",
       "0  9/26/2025 11:10:28  9/26/2025        2        Green   62  Deficit   \n",
       "\n",
       "   sleep_score sleep_hhmm trained  \\\n",
       "0           85       6:15     Yes   \n",
       "\n",
       "                                               notes  \n",
       "0  Felt somewhat sick all day. Very drained. Low ...  "
      ]
     },
     "execution_count": 4,
     "metadata": {},
     "output_type": "execute_result"
    }
   ],
   "source": [
    "# begin cleaning the data\n",
    "\n",
    "#rename columns\n",
    "hrv_cleaned = hrv.rename(columns={\"Timestamp\": \"timestamp\", \"Today's Date\": \"date\",\n",
    "    \"How did you feel today?\": \"feeling\",\n",
    "    \"Whoop recovery score\": \"whoop_status\",\n",
    "    \"Resting RHR\": \"rhr\",\n",
    "    \"Calories\": \"calories\",\n",
    "    \"Whoop sleep score %\": \"sleep_score\",\n",
    "    \"Whoop sleep hours\": \"sleep_hhmm\",\n",
    "    \"Trained?\": \"trained\",\n",
    "    \"Any notes?\": \"notes\",})\n",
    "\n",
    "hrv_cleaned"
   ]
  },
  {
   "cell_type": "code",
   "execution_count": 5,
   "id": "63a052e4",
   "metadata": {},
   "outputs": [
    {
     "name": "stdout",
     "output_type": "stream",
     "text": [
      "<class 'pandas.core.frame.DataFrame'>\n",
      "RangeIndex: 1 entries, 0 to 0\n",
      "Data columns (total 10 columns):\n",
      " #   Column        Non-Null Count  Dtype \n",
      "---  ------        --------------  ----- \n",
      " 0   timestamp     1 non-null      object\n",
      " 1   date          1 non-null      object\n",
      " 2   feeling       1 non-null      int64 \n",
      " 3   whoop_status  1 non-null      object\n",
      " 4   rhr           1 non-null      int64 \n",
      " 5   calories      1 non-null      object\n",
      " 6   sleep_score   1 non-null      int64 \n",
      " 7   sleep_hhmm    1 non-null      object\n",
      " 8   trained       1 non-null      object\n",
      " 9   notes         1 non-null      object\n",
      "dtypes: int64(3), object(7)\n",
      "memory usage: 212.0+ bytes\n"
     ]
    }
   ],
   "source": [
    "hrv_cleaned.info()"
   ]
  },
  {
   "cell_type": "code",
   "execution_count": 9,
   "id": "c2ce6932",
   "metadata": {},
   "outputs": [
    {
     "data": {
      "text/plain": [
       "dtype('<M8[ns]')"
      ]
     },
     "execution_count": 9,
     "metadata": {},
     "output_type": "execute_result"
    }
   ],
   "source": [
    "# turn date into datetime \n",
    "hrv_cleaned[\"date\"] = pd.to_datetime(hrv_cleaned[\"date\"], errors=\"raise\")\n",
    "\n",
    "# check output \n",
    "hrv_cleaned[\"date\"].dtype\n"
   ]
  },
  {
   "cell_type": "code",
   "execution_count": 12,
   "id": "f450193a",
   "metadata": {},
   "outputs": [
    {
     "data": {
      "text/html": [
       "<div>\n",
       "<style scoped>\n",
       "    .dataframe tbody tr th:only-of-type {\n",
       "        vertical-align: middle;\n",
       "    }\n",
       "\n",
       "    .dataframe tbody tr th {\n",
       "        vertical-align: top;\n",
       "    }\n",
       "\n",
       "    .dataframe thead th {\n",
       "        text-align: right;\n",
       "    }\n",
       "</style>\n",
       "<table border=\"1\" class=\"dataframe\">\n",
       "  <thead>\n",
       "    <tr style=\"text-align: right;\">\n",
       "      <th></th>\n",
       "      <th>timestamp</th>\n",
       "      <th>date</th>\n",
       "      <th>feeling</th>\n",
       "      <th>whoop_status</th>\n",
       "      <th>rhr</th>\n",
       "      <th>calories</th>\n",
       "      <th>sleep_score</th>\n",
       "      <th>sleep_hhmm</th>\n",
       "      <th>trained</th>\n",
       "      <th>notes</th>\n",
       "      <th>year</th>\n",
       "      <th>month</th>\n",
       "      <th>day</th>\n",
       "    </tr>\n",
       "  </thead>\n",
       "  <tbody>\n",
       "    <tr>\n",
       "      <th>0</th>\n",
       "      <td>9/26/2025 11:10:28</td>\n",
       "      <td>2025-09-26</td>\n",
       "      <td>2</td>\n",
       "      <td>Green</td>\n",
       "      <td>62</td>\n",
       "      <td>Deficit</td>\n",
       "      <td>85</td>\n",
       "      <td>6:15</td>\n",
       "      <td>Yes</td>\n",
       "      <td>Felt somewhat sick all day. Very drained. Low ...</td>\n",
       "      <td>2025</td>\n",
       "      <td>9</td>\n",
       "      <td>26</td>\n",
       "    </tr>\n",
       "  </tbody>\n",
       "</table>\n",
       "</div>"
      ],
      "text/plain": [
       "            timestamp       date  feeling whoop_status  rhr calories  \\\n",
       "0  9/26/2025 11:10:28 2025-09-26        2        Green   62  Deficit   \n",
       "\n",
       "   sleep_score sleep_hhmm trained  \\\n",
       "0           85       6:15     Yes   \n",
       "\n",
       "                                               notes  year  month  day  \n",
       "0  Felt somewhat sick all day. Very drained. Low ...  2025      9   26  "
      ]
     },
     "execution_count": 12,
     "metadata": {},
     "output_type": "execute_result"
    }
   ],
   "source": [
    "# extract year and date\n",
    "hrv_cleaned[\"year\"] = hrv_cleaned[\"date\"].dt.year\n",
    "hrv_cleaned[\"month\"] = hrv_cleaned[\"date\"].dt.month\n",
    "hrv_cleaned[\"day\"] = hrv_cleaned[\"date\"].dt.day\n",
    "\n",
    "# filter by ranges\n",
    "hrv_cleaned[hrv_cleaned[\"date\"] == \"26-09-25\"]\n"
   ]
  },
  {
   "cell_type": "code",
   "execution_count": null,
   "id": "9f6f3355",
   "metadata": {},
   "outputs": [],
   "source": []
  },
  {
   "cell_type": "code",
   "execution_count": null,
   "id": "2c0994c4",
   "metadata": {},
   "outputs": [],
   "source": []
  }
 ],
 "metadata": {
  "kernelspec": {
   "display_name": "hrv-readiness-study-py3.13",
   "language": "python",
   "name": "python3"
  },
  "language_info": {
   "codemirror_mode": {
    "name": "ipython",
    "version": 3
   },
   "file_extension": ".py",
   "mimetype": "text/x-python",
   "name": "python",
   "nbconvert_exporter": "python",
   "pygments_lexer": "ipython3",
   "version": "3.13.3"
  }
 },
 "nbformat": 4,
 "nbformat_minor": 5
}
