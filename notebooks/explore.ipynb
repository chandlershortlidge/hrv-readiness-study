{
 "cells": [
  {
   "cell_type": "code",
   "execution_count": 95,
   "id": "1f679436",
   "metadata": {},
   "outputs": [],
   "source": [
    "import pandas as pd \n",
    "import numpy as np\n",
    "from pathlib import Path\n",
    "import glob "
   ]
  },
  {
   "cell_type": "code",
   "execution_count": 96,
   "id": "4e94aaa0",
   "metadata": {},
   "outputs": [
    {
     "name": "stdout",
     "output_type": "stream",
     "text": [
      "['../data/raw/workouts/26_09_25.txt', '../data/raw/workouts/09_10_25.txt', '../data/raw/workouts/11_10_25.txt', '../data/raw/workouts/05_10_25.txt', '../data/raw/workouts/06_10_25.txt', '../data/raw/workouts/24_09_25.txt', '../data/raw/workouts/12_10_25.txt', '../data/raw/workouts/07_10_25.txt', '../data/raw/workouts/25_09_25.txt', '../data/raw/workouts/28_09_25.txt']\n"
     ]
    }
   ],
   "source": [
    "# Get all .txt files in the workouts folder\n",
    "workout_files = glob.glob('../data/raw/workouts/*.txt')\n",
    "print(workout_files)"
   ]
  },
  {
   "cell_type": "code",
   "execution_count": null,
   "id": "73b48b79",
   "metadata": {},
   "outputs": [],
   "source": [
    "def extract_volume(filepath):\n",
    "        with open(filepath) as f:\n",
    "            # opens workout file\n",
    "            lines = f.readlines()\n",
    "        total_volume = []\n",
    "                  \n",
    "        for line in lines:\n",
    "            # loops through all lines in the workout file\n",
    "            if line.startswith(\"Set\"):\n",
    "                # extracts weeight and reps from lines that start with \"Set\"\n",
    "                parts = line.split(\" x \")\n",
    "                # splits line into weight and reps (a list)\n",
    "                sets = parts[0].split(\":\")\n",
    "                # grabs the first item in list and splits it by \n",
    "                weight = sets[1].split(\" \")\n",
    "                # splits the list into another list by \" \" to isolate the number\n",
    "                kilos = weight[1]\n",
    "                # Assigns second item in the list to variable kilos\n",
    "                kilos = float(kilos)\n",
    "                # takes that number and converts from object to float for calculations\n",
    "                reps = parts[1].strip()\n",
    "                # takes the second item in the list \"parts\" and assigns it to reps\n",
    "                reps = int(reps)\n",
    "                # converts reps into an interger for calculations\n",
    "                volume = kilos * reps\n",
    "                # calculates volume for each set and appends to list\n",
    "                total_volume.append(volume)\n",
    "                # returns total volume for the workout\n",
    "        return sum(total_volume)\n",
    "\n",
    "     # see what you get after splitting"
   ]
  },
  {
   "cell_type": "code",
   "execution_count": 115,
   "id": "a8dfb6d9",
   "metadata": {},
   "outputs": [
    {
     "name": "stdout",
     "output_type": "stream",
     "text": [
      "Total volume for workout 1: 224.0\n",
      "Total volume for workout 2: 2204.0\n"
     ]
    }
   ],
   "source": [
    "print(\"Total volume for workout 1:\", extract_volume(workout_files[0]))\n",
    "print(\"Total volume for workout 2:\", extract_volume(workout_files[1]))"
   ]
  },
  {
   "cell_type": "code",
   "execution_count": null,
   "id": "311df2bb",
   "metadata": {},
   "outputs": [],
   "source": [
    "# create a function to deal with bodyweight exercises\n",
    "def extract_bodyweight_volume(filepath, bodyweight):\n",
    "        with open(filepath) as f:\n",
    "            # opens workout file\n",
    "            lines = f.readlines()\n",
    "        total_volume = []\n",
    "                  \n",
    "        for line in lines:\n",
    "            # loops through all lines in the workout file\n",
    "            if line.startswith(\"Set\"):\n",
    "                # extracts weeight and reps from lines that start with \"Set\"\n",
    "                if \"reps\" in line:  \n",
    "                     parts = line.split(\" : \")\n",
    "                sets = parts[0].split(\":\")\n",
    "                weight = sets[1].split(\" \")\n",
    "                kelos = weight[1]\n",
    "                if kelos == \"BW\":\n",
    "                    kelos = bodyweight\n",
    "                else:\n",
    "                    kelos = float(kelos)\n",
    "                reps = parts[1].strip()\n",
    "                reps = int(reps)\n",
    "                volume = kelos * reps\n",
    "                # calculates volume for each set and appends to list\n",
    "                total_volume.append(volume)\n",
    "                # returns total volume for the workout\n",
    "        return sum(total_volume)"
   ]
  },
  {
   "cell_type": "markdown",
   "id": "58b05c0d",
   "metadata": {},
   "source": []
  }
 ],
 "metadata": {
  "kernelspec": {
   "display_name": "hrv-readiness-study-py3.13",
   "language": "python",
   "name": "python3"
  },
  "language_info": {
   "codemirror_mode": {
    "name": "ipython",
    "version": 3
   },
   "file_extension": ".py",
   "mimetype": "text/x-python",
   "name": "python",
   "nbconvert_exporter": "python",
   "pygments_lexer": "ipython3",
   "version": "3.13.3"
  }
 },
 "nbformat": 4,
 "nbformat_minor": 5
}
