{
 "cells": [
  {
   "cell_type": "code",
   "execution_count": 1,
   "id": "1f679436",
   "metadata": {},
   "outputs": [],
   "source": [
    "import pandas as pd \n",
    "import numpy as np\n",
    "from pathlib import Path\n",
    "import glob \n",
    "import importlib\n",
    "from functions import open_workout_file, get_all_workout_files\n",
    "from functions import calculate_weighted_set_volume, extract_bodyweight_volume, extract_volume\n",
    "import functions"
   ]
  },
  {
   "cell_type": "code",
   "execution_count": 2,
   "id": "4e94aaa0",
   "metadata": {},
   "outputs": [
    {
     "name": "stdout",
     "output_type": "stream",
     "text": [
      "Found 10 workout files\n"
     ]
    }
   ],
   "source": [
    "# import workout files \n",
    "workout_files = get_all_workout_files()\n",
    "print(f\"Found {len(workout_files)} workout files\")"
   ]
  },
  {
   "cell_type": "code",
   "execution_count": 3,
   "id": "b2a1c4ac",
   "metadata": {},
   "outputs": [
    {
     "name": "stdout",
     "output_type": "stream",
     "text": [
      "First line of first workout file: Sep 26 Workout\n",
      "\n",
      "Fifth line of first workout file: Set 2 : 2 kg  x 11\n",
      "\n"
     ]
    }
   ],
   "source": [
    "line = open_workout_file(workout_files[0])\n",
    "print(\"First line of first workout file:\", line[0])\n",
    "print(\"Fifth line of first workout file:\", line[5])"
   ]
  },
  {
   "cell_type": "code",
   "execution_count": 4,
   "id": "73b48b79",
   "metadata": {},
   "outputs": [
    {
     "data": {
      "text/plain": [
       "22.0"
      ]
     },
     "execution_count": 4,
     "metadata": {},
     "output_type": "execute_result"
    }
   ],
   "source": [
    "calculate_weighted_set_volume(line[5])"
   ]
  },
  {
   "cell_type": "code",
   "execution_count": 5,
   "id": "13009fbc",
   "metadata": {},
   "outputs": [
    {
     "name": "stdout",
     "output_type": "stream",
     "text": [
      "Total volume: 224.0 kg\n"
     ]
    }
   ],
   "source": [
    "total = extract_volume(workout_files[0], bodyweight=80)\n",
    "print(f\"Total volume: {total} kg\")"
   ]
  },
  {
   "cell_type": "code",
   "execution_count": 6,
   "id": "5851630f",
   "metadata": {},
   "outputs": [
    {
     "name": "stdout",
     "output_type": "stream",
     "text": [
      "../data/raw/workouts/26_09_25.txt: 224.0 kg\n",
      "../data/raw/workouts/09_10_25.txt: 2204.0 kg\n",
      "../data/raw/workouts/11_10_25.txt: 7514.0 kg\n",
      "../data/raw/workouts/05_10_25.txt: 5338.0 kg\n",
      "../data/raw/workouts/06_10_25.txt: 9711.0 kg\n",
      "../data/raw/workouts/24_09_25.txt: 5653.0 kg\n",
      "../data/raw/workouts/12_10_25.txt: 6117.0 kg\n",
      "../data/raw/workouts/07_10_25.txt: 4451.0 kg\n",
      "../data/raw/workouts/25_09_25.txt: 5469.5 kg\n",
      "../data/raw/workouts/28_09_25.txt: 4935.0 kg\n"
     ]
    }
   ],
   "source": [
    "for file in workout_files:\n",
    "    total = extract_volume(file, bodyweight=80)\n",
    "    print(f\"{file}: {total} kg\")"
   ]
  },
  {
   "cell_type": "code",
   "execution_count": 7,
   "id": "f8aba466",
   "metadata": {},
   "outputs": [
    {
     "name": "stdout",
     "output_type": "stream",
     "text": [
      "Processing: ../data/raw/workouts/26_09_25.txt\n",
      "  Total: 224.0 kg\n",
      "Processing: ../data/raw/workouts/09_10_25.txt\n",
      "  Total: 2204.0 kg\n",
      "Processing: ../data/raw/workouts/11_10_25.txt\n",
      "  Total: 7514.0 kg\n",
      "Processing: ../data/raw/workouts/05_10_25.txt\n",
      "  Total: 5338.0 kg\n",
      "Processing: ../data/raw/workouts/06_10_25.txt\n",
      "  Total: 9711.0 kg\n",
      "Processing: ../data/raw/workouts/24_09_25.txt\n",
      "  Total: 5653.0 kg\n",
      "Processing: ../data/raw/workouts/12_10_25.txt\n",
      "  Total: 6117.0 kg\n",
      "Processing: ../data/raw/workouts/07_10_25.txt\n",
      "  Total: 4451.0 kg\n",
      "Processing: ../data/raw/workouts/25_09_25.txt\n",
      "  Total: 5469.5 kg\n",
      "Processing: ../data/raw/workouts/28_09_25.txt\n",
      "  Total: 4935.0 kg\n"
     ]
    }
   ],
   "source": [
    "for file in workout_files:\n",
    "    print(f\"Processing: {file}\")\n",
    "    total = extract_volume(file, bodyweight=80)\n",
    "    print(f\"  Total: {total} kg\")"
   ]
  },
  {
   "cell_type": "code",
   "execution_count": null,
   "id": "7e6b00bf",
   "metadata": {},
   "outputs": [],
   "source": []
  },
  {
   "cell_type": "markdown",
   "id": "58b05c0d",
   "metadata": {},
   "source": []
  }
 ],
 "metadata": {
  "kernelspec": {
   "display_name": "Python 3",
   "language": "python",
   "name": "python3"
  },
  "language_info": {
   "codemirror_mode": {
    "name": "ipython",
    "version": 3
   },
   "file_extension": ".py",
   "mimetype": "text/x-python",
   "name": "python",
   "nbconvert_exporter": "python",
   "pygments_lexer": "ipython3",
   "version": "3.13.3"
  }
 },
 "nbformat": 4,
 "nbformat_minor": 5
}
