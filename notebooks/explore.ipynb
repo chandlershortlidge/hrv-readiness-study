{
 "cells": [
  {
   "cell_type": "code",
   "execution_count": 1,
   "id": "1f679436",
   "metadata": {},
   "outputs": [],
   "source": [
    "import pandas as pd \n",
    "import numpy as np\n",
    "from pathlib import Path\n",
    "import glob \n",
    "import importlib\n",
    "from functions import open_workout_file, get_all_workout_files, calculate_weighted_set_volume, extract_bodyweight_volume\n",
    "import functions"
   ]
  },
  {
   "cell_type": "code",
   "execution_count": 2,
   "id": "4e94aaa0",
   "metadata": {},
   "outputs": [
    {
     "name": "stdout",
     "output_type": "stream",
     "text": [
      "Found 10 workout files\n"
     ]
    }
   ],
   "source": [
    "# import workout files \n",
    "workout_files = get_all_workout_files()\n",
    "print(f\"Found {len(workout_files)} workout files\")"
   ]
  },
  {
   "cell_type": "code",
   "execution_count": 3,
   "id": "b2a1c4ac",
   "metadata": {},
   "outputs": [
    {
     "name": "stdout",
     "output_type": "stream",
     "text": [
      "First line of first workout file: Sep 26 Workout\n",
      "\n",
      "Fifth line of first workout file: Set 2 : 2 kg  x 11\n",
      "\n"
     ]
    }
   ],
   "source": [
    "line = open_workout_file(workout_files[0])\n",
    "print(\"First line of first workout file:\", line[0])\n",
    "print(\"Fifth line of first workout file:\", line[5])"
   ]
  },
  {
   "cell_type": "code",
   "execution_count": null,
   "id": "73b48b79",
   "metadata": {},
   "outputs": [
    {
     "data": {
      "text/plain": [
       "22.0"
      ]
     },
     "execution_count": 4,
     "metadata": {},
     "output_type": "execute_result"
    }
   ],
   "source": [
    "calculate_weighted_set_volume(line[5])"
   ]
  },
  {
   "cell_type": "code",
   "execution_count": 25,
   "id": "13009fbc",
   "metadata": {},
   "outputs": [
    {
     "name": "stdout",
     "output_type": "stream",
     "text": [
      "160\n"
     ]
    }
   ],
   "source": [
    "test_line = \"Set 1 : 2 reps\\n\"\n",
    "volume = extract_bodyweight_volume(test_line, 80)\n",
    "print(volume)  # should be 160"
   ]
  },
  {
   "cell_type": "markdown",
   "id": "58b05c0d",
   "metadata": {},
   "source": []
  }
 ],
 "metadata": {
  "kernelspec": {
   "display_name": "Python 3",
   "language": "python",
   "name": "python3"
  },
  "language_info": {
   "codemirror_mode": {
    "name": "ipython",
    "version": 3
   },
   "file_extension": ".py",
   "mimetype": "text/x-python",
   "name": "python",
   "nbconvert_exporter": "python",
   "pygments_lexer": "ipython3",
   "version": "3.13.3"
  }
 },
 "nbformat": 4,
 "nbformat_minor": 5
}
