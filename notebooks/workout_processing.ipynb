{
 "cells": [
  {
   "cell_type": "code",
   "execution_count": 2,
   "id": "1f679436",
   "metadata": {},
   "outputs": [],
   "source": [
    "import pandas as pd \n",
    "import numpy as np\n",
    "from pathlib import Path\n",
    "import glob \n",
    "import importlib\n",
    "from functions import open_workout_file, get_all_workout_files\n",
    "from functions import calculate_weighted_set_volume, extract_bodyweight_volume, extract_volume, get_workout_name, get_workout_date\n",
    "import functions"
   ]
  },
  {
   "cell_type": "code",
   "execution_count": 3,
   "id": "4e94aaa0",
   "metadata": {},
   "outputs": [
    {
     "name": "stdout",
     "output_type": "stream",
     "text": [
      "Found 11 workout files\n"
     ]
    }
   ],
   "source": [
    "# import workout files \n",
    "workout_files = get_all_workout_files()\n",
    "print(f\"Found {len(workout_files)} workout files\")"
   ]
  },
  {
   "cell_type": "code",
   "execution_count": 4,
   "id": "b2a1c4ac",
   "metadata": {},
   "outputs": [
    {
     "name": "stdout",
     "output_type": "stream",
     "text": [
      "First line of first workout file: Sep 26 Workout\n",
      "\n",
      "Fifth line of first workout file: Set 2 : 2 kg  x 11\n",
      "\n"
     ]
    }
   ],
   "source": [
    "line = open_workout_file(workout_files[0])\n",
    "print(\"First line of first workout file:\", line[0])\n",
    "print(\"Fifth line of first workout file:\", line[5])"
   ]
  },
  {
   "cell_type": "code",
   "execution_count": 5,
   "id": "73b48b79",
   "metadata": {},
   "outputs": [
    {
     "data": {
      "text/plain": [
       "22.0"
      ]
     },
     "execution_count": 5,
     "metadata": {},
     "output_type": "execute_result"
    }
   ],
   "source": [
    "calculate_weighted_set_volume(line[5])"
   ]
  },
  {
   "cell_type": "code",
   "execution_count": 6,
   "id": "13009fbc",
   "metadata": {},
   "outputs": [
    {
     "name": "stdout",
     "output_type": "stream",
     "text": [
      "Total volume: 224.0 kg\n"
     ]
    }
   ],
   "source": [
    "total = extract_volume(workout_files[0], bodyweight=80)\n",
    "print(f\"Total volume: {total} kg\")"
   ]
  },
  {
   "cell_type": "code",
   "execution_count": 7,
   "id": "5851630f",
   "metadata": {},
   "outputs": [
    {
     "name": "stdout",
     "output_type": "stream",
     "text": [
      "../data/raw/workouts/26_09_25.txt: 224.0 kg\n",
      "../data/raw/workouts/09_10_25.txt: 2204.0 kg\n",
      "../data/raw/workouts/11_10_25.txt: 7514.0 kg\n",
      "../data/raw/workouts/05_10_25.txt: 5338.0 kg\n",
      "../data/raw/workouts/06_10_25.txt: 9711.0 kg\n",
      "../data/raw/workouts/24_09_25.txt: 5653.0 kg\n",
      "../data/raw/workouts/12_10_25.txt: 6117.0 kg\n",
      "../data/raw/workouts/15_10_25.txt: 11275.0 kg\n",
      "../data/raw/workouts/07_10_25.txt: 4451.0 kg\n",
      "../data/raw/workouts/25_09_25.txt: 5469.5 kg\n",
      "../data/raw/workouts/28_09_25.txt: 4935.0 kg\n"
     ]
    }
   ],
   "source": [
    "for file in workout_files:\n",
    "    total = extract_volume(file, bodyweight=80)\n",
    "    print(f\"{file}: {total} kg\")"
   ]
  },
  {
   "cell_type": "code",
   "execution_count": 8,
   "id": "f8aba466",
   "metadata": {},
   "outputs": [
    {
     "name": "stdout",
     "output_type": "stream",
     "text": [
      "Processing: ../data/raw/workouts/26_09_25.txt\n",
      "  Total: 224.0 kg\n",
      "Processing: ../data/raw/workouts/09_10_25.txt\n",
      "  Total: 2204.0 kg\n",
      "Processing: ../data/raw/workouts/11_10_25.txt\n",
      "  Total: 7514.0 kg\n",
      "Processing: ../data/raw/workouts/05_10_25.txt\n",
      "  Total: 5338.0 kg\n",
      "Processing: ../data/raw/workouts/06_10_25.txt\n",
      "  Total: 9711.0 kg\n",
      "Processing: ../data/raw/workouts/24_09_25.txt\n",
      "  Total: 5653.0 kg\n",
      "Processing: ../data/raw/workouts/12_10_25.txt\n",
      "  Total: 6117.0 kg\n",
      "Processing: ../data/raw/workouts/15_10_25.txt\n",
      "  Total: 11275.0 kg\n",
      "Processing: ../data/raw/workouts/07_10_25.txt\n",
      "  Total: 4451.0 kg\n",
      "Processing: ../data/raw/workouts/25_09_25.txt\n",
      "  Total: 5469.5 kg\n",
      "Processing: ../data/raw/workouts/28_09_25.txt\n",
      "  Total: 4935.0 kg\n"
     ]
    }
   ],
   "source": [
    "for file in workout_files:\n",
    "    print(f\"Processing: {file}\")\n",
    "    total = extract_volume(file, bodyweight=80)\n",
    "    print(f\"  Total: {total} kg\")"
   ]
  },
  {
   "cell_type": "code",
   "execution_count": 9,
   "id": "7e6b00bf",
   "metadata": {},
   "outputs": [
    {
     "name": "stdout",
     "output_type": "stream",
     "text": [
      "Sep 26 Workout\n"
     ]
    }
   ],
   "source": [
    "name = get_workout_name(workout_files[0])\n",
    "print(name)"
   ]
  },
  {
   "cell_type": "code",
   "execution_count": 10,
   "id": "f936f9d9",
   "metadata": {},
   "outputs": [
    {
     "name": "stdout",
     "output_type": "stream",
     "text": [
      "2025-09-26\n"
     ]
    }
   ],
   "source": [
    "date = get_workout_date(workout_files[0])\n",
    "print(date)"
   ]
  },
  {
   "cell_type": "markdown",
   "id": "b0d51f93",
   "metadata": {},
   "source": [
    "### Create dataframe for workout data"
   ]
  },
  {
   "cell_type": "code",
   "execution_count": 11,
   "id": "27b4cfab",
   "metadata": {},
   "outputs": [
    {
     "name": "stdout",
     "output_type": "stream",
     "text": [
      "          date    workout_name  total_volume\n",
      "0   2025-09-26  Sep 26 Workout         224.0\n",
      "1   2025-10-09   Oct 9 Workout        2204.0\n",
      "2   2025-10-11    BACK & DELTS        7514.0\n",
      "3   2025-10-05      Upper MP B        5338.0\n",
      "4   2025-10-06   Oct 6 Workout        9711.0\n",
      "5   2025-09-24      Upper MP A        5653.0\n",
      "6   2025-10-12      Upper MP B        6117.0\n",
      "7   2025-10-15  Oct 15 Workout       11275.0\n",
      "8   2025-10-07      Upper MP A        4451.0\n",
      "9   2025-09-25    BACK & DELTS        5469.5\n",
      "10  2025-09-28      Upper MP B        4935.0\n"
     ]
    }
   ],
   "source": [
    "# Create lists to store data\n",
    "dates = []\n",
    "names = []\n",
    "volumes = []\n",
    "\n",
    "# Loop through all workout files\n",
    "for file in workout_files:\n",
    "    date = get_workout_date(file)\n",
    "    name = get_workout_name(file)\n",
    "    volume = extract_volume(file, bodyweight=80)\n",
    "    \n",
    "    dates.append(date)\n",
    "    names.append(name)\n",
    "    volumes.append(volume)\n",
    "\n",
    "# Create DataFrame\n",
    "workout_df = pd.DataFrame({\n",
    "    'date': dates,\n",
    "    'workout_name': names,\n",
    "    'total_volume': volumes\n",
    "})\n",
    "\n",
    "print(workout_df)"
   ]
  },
  {
   "cell_type": "code",
   "execution_count": 13,
   "id": "2cda0bd7",
   "metadata": {},
   "outputs": [
    {
     "name": "stdout",
     "output_type": "stream",
     "text": [
      "Workout summary saved to ../data/processed/workout_summary.csv\n"
     ]
    }
   ],
   "source": [
    "# save to csv\n",
    "workout_df.to_csv('../data/processed/workout_summary.csv', index=False)\n",
    "print(\"Workout summary saved to ../data/processed/workout_summary.csv\")"
   ]
  },
  {
   "cell_type": "code",
   "execution_count": null,
   "id": "9f3b4ff7",
   "metadata": {},
   "outputs": [],
   "source": []
  }
 ],
 "metadata": {
  "kernelspec": {
   "display_name": "Python 3",
   "language": "python",
   "name": "python3"
  },
  "language_info": {
   "codemirror_mode": {
    "name": "ipython",
    "version": 3
   },
   "file_extension": ".py",
   "mimetype": "text/x-python",
   "name": "python",
   "nbconvert_exporter": "python",
   "pygments_lexer": "ipython3",
   "version": "3.13.3"
  }
 },
 "nbformat": 4,
 "nbformat_minor": 5
}
