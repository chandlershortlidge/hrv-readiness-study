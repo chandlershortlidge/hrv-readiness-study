{
 "cells": [
  {
   "cell_type": "code",
   "execution_count": 1,
   "id": "1f679436",
   "metadata": {},
   "outputs": [],
   "source": [
    "import pandas as pd \n",
    "import numpy as np\n",
    "from pathlib import Path\n",
    "import glob \n",
    "import importlib\n",
    "from functions import open_workout_file, get_all_workout_files\n",
    "import functions"
   ]
  },
  {
   "cell_type": "code",
   "execution_count": 2,
   "id": "4e94aaa0",
   "metadata": {},
   "outputs": [
    {
     "name": "stdout",
     "output_type": "stream",
     "text": [
      "Found 10 workout files\n"
     ]
    }
   ],
   "source": [
    "# Get all .txt files in the workouts \n",
    "workout_files = get_all_workout_files()\n",
    "print(f\"Found {len(workout_files)} workout files\")"
   ]
  },
  {
   "cell_type": "code",
   "execution_count": null,
   "id": "5e9dc246",
   "metadata": {},
   "outputs": [],
   "source": []
  },
  {
   "cell_type": "code",
   "execution_count": null,
   "id": "2b4feaf8",
   "metadata": {},
   "outputs": [],
   "source": []
  },
  {
   "cell_type": "code",
   "execution_count": 3,
   "id": "73b48b79",
   "metadata": {},
   "outputs": [],
   "source": [
    "def calculate_weighted_set_volume(line):\n",
    "    \"\"\"Takes a line like 'Set 1 : 40 kg x 9' and returns volume for that set\"\"\"\n",
    "    parts = line.split(\" x \")\n",
    "    # splits string into list: ['Set 3 : 30 kg ', '14\\n']\n",
    "    sets = parts[0].split(\":\")\n",
    "    # extracts first item in list, splits into new list by colon: ['Set 3 ', ' 30 kg ']\n",
    "    weight = sets[1].split(\" \")\n",
    "    # extracts second item in list, splits new into new list by space: ['', '30', 'kg', '']\n",
    "    kilos = weight[1]\n",
    "    # assigns second item in list (the number) to variable kilos\n",
    "    kilos = float(kilos)\n",
    "        # converts kilos from object to float for calculations\n",
    "    reps = parts[1].strip()\n",
    "    # extracts reps from second item in original list, removes newline character\n",
    "    reps = int(reps)\n",
    "    # converts reps into an interger for calculations\n",
    "    set_volume = kilos * reps\n",
    "    # calculates volume for the set\n",
    "    return set_volume\n"
   ]
  },
  {
   "cell_type": "code",
   "execution_count": 4,
   "id": "a8dfb6d9",
   "metadata": {},
   "outputs": [
    {
     "name": "stdout",
     "output_type": "stream",
     "text": [
      "16.0\n"
     ]
    }
   ],
   "source": [
    "lines = open_workout_file(workout_files[0])\n",
    "# Find a \"Set\" line and test it\n",
    "test_line = lines[4]  # adjust index to find a Set line\n",
    "print(calculate_weighted_set_volume(test_line))\n"
   ]
  },
  {
   "cell_type": "code",
   "execution_count": 5,
   "id": "311df2bb",
   "metadata": {},
   "outputs": [],
   "source": [
    "# create a function to deal with bodyweight exercises\n",
    "def extract_bodyweight_volume(lines, bodyweight):\n",
    "        bodyweight_volume = []     \n",
    "        for line in lines:\n",
    "            # loops through all lines in the workout file\n",
    "            if line.startswith(\"Set\"):\n",
    "                # extracts any string starting with \"Set\" \n",
    "                if \"reps\" in line:  \n",
    "                     # extracts any string starting with \"Set\" and containing \"reps\"\n",
    "                     parts = line.split(\" : \")\n",
    "                     # splits string into \"Set #\" and \"# kg\" (a list)\n",
    "                     reps_str = parts[1]\n",
    "                        # assigns the second item in the list to reps_str\n",
    "                     reps = reps_str.split(\" \")[0]\n",
    "                        # splits the string by \" \" to isolate the number of reps\n",
    "                     reps = int(reps)\n",
    "                        # converts reps into an interger for calculations\n",
    "                     rep_volume = bodyweight * reps\n",
    "                        # calculates volume for each rep based on bodyweight\n",
    "                     bodyweight_volume.append(rep_volume)\n",
    "                        # appends rep volume to list\n",
    "        return sum(bodyweight_volume)\n"
   ]
  },
  {
   "cell_type": "code",
   "execution_count": 6,
   "id": "13009fbc",
   "metadata": {},
   "outputs": [
    {
     "name": "stdout",
     "output_type": "stream",
     "text": [
      "Total volume for workout 1: 0\n"
     ]
    }
   ],
   "source": [
    "\n",
    "print(\"Total volume for workout 1:\", extract_bodyweight_volume(workout_files[3], 80)) # assuming bodyweight is 80kg"
   ]
  },
  {
   "cell_type": "code",
   "execution_count": 7,
   "id": "874eb508",
   "metadata": {},
   "outputs": [
    {
     "ename": "AttributeError",
     "evalue": "'list' object has no attribute 'split'",
     "output_type": "error",
     "traceback": [
      "\u001b[31m---------------------------------------------------------------------------\u001b[39m",
      "\u001b[31mAttributeError\u001b[39m                            Traceback (most recent call last)",
      "\u001b[36mCell\u001b[39m\u001b[36m \u001b[39m\u001b[32mIn[7]\u001b[39m\u001b[32m, line 33\u001b[39m\n\u001b[32m     30\u001b[39m     \u001b[38;5;28;01mreturn\u001b[39;00m \u001b[38;5;28msum\u001b[39m(total_volume)\n\u001b[32m     32\u001b[39m lines = open_workout_file(workout_files[\u001b[32m0\u001b[39m])\n\u001b[32m---> \u001b[39m\u001b[32m33\u001b[39m \u001b[38;5;28mprint\u001b[39m(\u001b[33m\"\u001b[39m\u001b[33mTotal volume for workout 1:\u001b[39m\u001b[33m\"\u001b[39m, \u001b[43mcalculate_weighted_set_volume\u001b[49m\u001b[43m(\u001b[49m\u001b[43mlines\u001b[49m\u001b[43m)\u001b[49m)\n",
      "\u001b[36mCell\u001b[39m\u001b[36m \u001b[39m\u001b[32mIn[3]\u001b[39m\u001b[32m, line 3\u001b[39m, in \u001b[36mcalculate_weighted_set_volume\u001b[39m\u001b[34m(line)\u001b[39m\n\u001b[32m      1\u001b[39m \u001b[38;5;28;01mdef\u001b[39;00m\u001b[38;5;250m \u001b[39m\u001b[34mcalculate_weighted_set_volume\u001b[39m(line):\n\u001b[32m      2\u001b[39m \u001b[38;5;250m    \u001b[39m\u001b[33;03m\"\"\"Takes a line like 'Set 1 : 40 kg x 9' and returns volume for that set\"\"\"\u001b[39;00m\n\u001b[32m----> \u001b[39m\u001b[32m3\u001b[39m     parts = \u001b[43mline\u001b[49m\u001b[43m.\u001b[49m\u001b[43msplit\u001b[49m(\u001b[33m\"\u001b[39m\u001b[33m x \u001b[39m\u001b[33m\"\u001b[39m)\n\u001b[32m      4\u001b[39m     \u001b[38;5;66;03m# splits string into list: ['Set 3 : 30 kg ', '14\\n']\u001b[39;00m\n\u001b[32m      5\u001b[39m     sets = parts[\u001b[32m0\u001b[39m].split(\u001b[33m\"\u001b[39m\u001b[33m:\u001b[39m\u001b[33m\"\u001b[39m)\n",
      "\u001b[31mAttributeError\u001b[39m: 'list' object has no attribute 'split'"
     ]
    }
   ],
   "source": [
    "def extract_volume(lines):\n",
    "    \"\"\"Takes a line like 'Set 1 : 40 kg x 9' and returns volume for that set\"\"\"\n",
    "    # split the line to get weight and reps\n",
    "    # calculate volume\n",
    "    # return volume (just the number, not a list)\n",
    "    total_volume = []\n",
    "        # loops through all lines in the workout file\n",
    "    for line in lines:\n",
    "            # extracts Sets\n",
    "            if line.startswith(\"Set\"):\n",
    "                # checks if line starts with \"Set\"\n",
    "                parts = line.split(\" x \")\n",
    "                # splits string into list: ['Set 3 : 30 kg ', '14\\n']\n",
    "                sets = parts[0].split(\":\")\n",
    "                # extracts first item in list, splits into new list by colon: ['Set 3 ', ' 30 kg ']\n",
    "                weight = sets[1].split(\" \")\n",
    "                # extracts second item in list, splits new into new list by space: ['', '30', 'kg', '']\n",
    "                kilos = weight[1]\n",
    "                # assigns second item in list (the number) to variable kilos\n",
    "                kilos = float(kilos)\n",
    "                # converts kilos from object to float for calculations\n",
    "                reps = parts[1].strip()\n",
    "                # extracts second item in list, removes whitespace/newline characters\n",
    "                reps = int(reps)\n",
    "                # converts reps into an interger for calculations\n",
    "                volume = kilos * reps\n",
    "                # calculates volume for each set and appends to list\n",
    "                total_volume.append(volume)\n",
    "                # returns total volume for the workout\n",
    "    return sum(total_volume)\n",
    "\n",
    "lines = open_workout_file(workout_files[0])\n",
    "print(\"Total volume for workout 1:\", calculate_weighted_set_volume(lines))"
   ]
  },
  {
   "cell_type": "code",
   "execution_count": null,
   "id": "42e9f3e7",
   "metadata": {},
   "outputs": [
    {
     "ename": "_IncompleteInputError",
     "evalue": "incomplete input (3255085921.py, line 1)",
     "output_type": "error",
     "traceback": [
      "  \u001b[36mCell\u001b[39m\u001b[36m \u001b[39m\u001b[32mIn[138]\u001b[39m\u001b[32m, line 1\u001b[39m\n\u001b[31m    \u001b[39m\u001b[31mprint(\"Total volume for workout 1:\", calculate_weighted_set_volume(sets\u001b[39m\n                                                                           ^\n\u001b[31m_IncompleteInputError\u001b[39m\u001b[31m:\u001b[39m incomplete input\n"
     ]
    }
   ],
   "source": [
    "print(\"Total volume for workout 1:\", calculate_weighted_set_volume("
   ]
  },
  {
   "cell_type": "markdown",
   "id": "58b05c0d",
   "metadata": {},
   "source": []
  }
 ],
 "metadata": {
  "kernelspec": {
   "display_name": "Python 3",
   "language": "python",
   "name": "python3"
  },
  "language_info": {
   "codemirror_mode": {
    "name": "ipython",
    "version": 3
   },
   "file_extension": ".py",
   "mimetype": "text/x-python",
   "name": "python",
   "nbconvert_exporter": "python",
   "pygments_lexer": "ipython3",
   "version": "3.13.3"
  }
 },
 "nbformat": 4,
 "nbformat_minor": 5
}
