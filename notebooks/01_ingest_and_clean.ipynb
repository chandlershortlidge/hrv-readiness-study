{
 "cells": [
  {
   "cell_type": "markdown",
   "id": "6ef9ab15",
   "metadata": {},
   "source": [
    "### Import data"
   ]
  },
  {
   "cell_type": "code",
   "execution_count": 1,
   "id": "2776a229",
   "metadata": {},
   "outputs": [],
   "source": [
    "import pandas as pd\n",
    "import numpy as np\n",
    "from pathlib import Path\n",
    "import matplotlib as map"
   ]
  },
  {
   "cell_type": "code",
   "execution_count": null,
   "id": "6cd08f5e",
   "metadata": {},
   "outputs": [
    {
     "data": {
      "text/html": [
       "<div>\n",
       "<style scoped>\n",
       "    .dataframe tbody tr th:only-of-type {\n",
       "        vertical-align: middle;\n",
       "    }\n",
       "\n",
       "    .dataframe tbody tr th {\n",
       "        vertical-align: top;\n",
       "    }\n",
       "\n",
       "    .dataframe thead th {\n",
       "        text-align: right;\n",
       "    }\n",
       "</style>\n",
       "<table border=\"1\" class=\"dataframe\">\n",
       "  <thead>\n",
       "    <tr style=\"text-align: right;\">\n",
       "      <th></th>\n",
       "      <th>Timestamp</th>\n",
       "      <th>Today's Date</th>\n",
       "      <th>How did you feel today?</th>\n",
       "      <th>Whoop recovery score</th>\n",
       "      <th>Resting RHR</th>\n",
       "      <th>Calories</th>\n",
       "      <th>Whoop sleep score %</th>\n",
       "      <th>Whoop sleep hours</th>\n",
       "      <th>Trained?</th>\n",
       "      <th>Any notes?</th>\n",
       "    </tr>\n",
       "  </thead>\n",
       "  <tbody>\n",
       "    <tr>\n",
       "      <th>0</th>\n",
       "      <td>9/26/2025 11:10:28</td>\n",
       "      <td>9/26/2025</td>\n",
       "      <td>2</td>\n",
       "      <td>Green</td>\n",
       "      <td>62</td>\n",
       "      <td>Deficit</td>\n",
       "      <td>85</td>\n",
       "      <td>6:15</td>\n",
       "      <td>Yes</td>\n",
       "      <td>Felt somewhat sick all day. Very drained. Low ...</td>\n",
       "    </tr>\n",
       "  </tbody>\n",
       "</table>\n",
       "</div>"
      ],
      "text/plain": [
       "            Timestamp Today's Date  How did you feel today?  \\\n",
       "0  9/26/2025 11:10:28    9/26/2025                        2   \n",
       "\n",
       "  Whoop recovery score  Resting RHR Calories  Whoop sleep score %  \\\n",
       "0                Green           62  Deficit                   85   \n",
       "\n",
       "  Whoop sleep hours Trained?  \\\n",
       "0              6:15      Yes   \n",
       "\n",
       "                                          Any notes?  \n",
       "0  Felt somewhat sick all day. Very drained. Low ...  "
      ]
     },
     "execution_count": 16,
     "metadata": {},
     "output_type": "execute_result"
    }
   ],
   "source": [
    "from pathlib import Path\n",
    "\n",
    "# go up one folder from notebooks → project root\n",
    "ROOT = Path.cwd().parent\n",
    "RAW = ROOT / \"data\" / \"raw\"\n",
    "\n",
    "import pandas as pd\n",
    "df = pd.read_csv(RAW / \"wellness.csv\")\n",
    "df.head(2)\n",
    "\n"
   ]
  },
  {
   "cell_type": "code",
   "execution_count": null,
   "id": "350804b2",
   "metadata": {},
   "outputs": [],
   "source": []
  }
 ],
 "metadata": {
  "kernelspec": {
   "display_name": "hrv-readiness-study-py3.13",
   "language": "python",
   "name": "python3"
  },
  "language_info": {
   "codemirror_mode": {
    "name": "ipython",
    "version": 3
   },
   "file_extension": ".py",
   "mimetype": "text/x-python",
   "name": "python",
   "nbconvert_exporter": "python",
   "pygments_lexer": "ipython3",
   "version": "3.13.3"
  }
 },
 "nbformat": 4,
 "nbformat_minor": 5
}
