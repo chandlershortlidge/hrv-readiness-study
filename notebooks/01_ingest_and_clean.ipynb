{
 "cells": [
  {
   "cell_type": "markdown",
   "id": "6ef9ab15",
   "metadata": {},
   "source": [
    "### Import data"
   ]
  },
  {
   "cell_type": "code",
   "execution_count": 3,
   "id": "2776a229",
   "metadata": {},
   "outputs": [],
   "source": [
    "import pandas as pd\n",
    "import numpy as np\n",
    "from pathlib import Path\n",
    "import matplotlib as map"
   ]
  },
  {
   "cell_type": "markdown",
   "id": "1b93b7aa",
   "metadata": {},
   "source": [
    "## Import HRV data"
   ]
  },
  {
   "cell_type": "code",
   "execution_count": 27,
   "id": "6cd08f5e",
   "metadata": {},
   "outputs": [
    {
     "name": "stdout",
     "output_type": "stream",
     "text": [
      "Saved snapshot to: /Users/chandlershortlidge/Desktop/hrv-readiness-study/data/raw/wellness_2025-09-28.csv\n"
     ]
    },
    {
     "data": {
      "text/html": [
       "<div>\n",
       "<style scoped>\n",
       "    .dataframe tbody tr th:only-of-type {\n",
       "        vertical-align: middle;\n",
       "    }\n",
       "\n",
       "    .dataframe tbody tr th {\n",
       "        vertical-align: top;\n",
       "    }\n",
       "\n",
       "    .dataframe thead th {\n",
       "        text-align: right;\n",
       "    }\n",
       "</style>\n",
       "<table border=\"1\" class=\"dataframe\">\n",
       "  <thead>\n",
       "    <tr style=\"text-align: right;\">\n",
       "      <th></th>\n",
       "      <th>Timestamp</th>\n",
       "      <th>Today's Date</th>\n",
       "      <th>How did you feel today? (1 worst, 10 best)</th>\n",
       "      <th>Whoop recovery status</th>\n",
       "      <th>Whoop recovery score%</th>\n",
       "      <th>Whoop sleep score%</th>\n",
       "      <th>Whoop sleep hours</th>\n",
       "      <th>HRV</th>\n",
       "      <th>RHR</th>\n",
       "      <th>Calories</th>\n",
       "      <th>Training day or rest day?</th>\n",
       "      <th>Did you train or did you rest?</th>\n",
       "      <th>Training performance?</th>\n",
       "      <th>Any notes?</th>\n",
       "    </tr>\n",
       "  </thead>\n",
       "  <tbody>\n",
       "    <tr>\n",
       "      <th>0</th>\n",
       "      <td>9/26/2025 11:10:28</td>\n",
       "      <td>9/26/2025</td>\n",
       "      <td>3</td>\n",
       "      <td>Green</td>\n",
       "      <td>91</td>\n",
       "      <td>85</td>\n",
       "      <td>6:15</td>\n",
       "      <td>36</td>\n",
       "      <td>62</td>\n",
       "      <td>Deficit</td>\n",
       "      <td>Training day</td>\n",
       "      <td>Trained</td>\n",
       "      <td>Below average</td>\n",
       "      <td>Felt somewhat sick all day. Very drained. Low ...</td>\n",
       "    </tr>\n",
       "    <tr>\n",
       "      <th>1</th>\n",
       "      <td>9/27/2025 6:44:05</td>\n",
       "      <td>9/27/2025</td>\n",
       "      <td>4</td>\n",
       "      <td>Yellow</td>\n",
       "      <td>61</td>\n",
       "      <td>85</td>\n",
       "      <td>7:03</td>\n",
       "      <td>28</td>\n",
       "      <td>62</td>\n",
       "      <td>Deficit</td>\n",
       "      <td>Rest day</td>\n",
       "      <td>Rested</td>\n",
       "      <td>NaN</td>\n",
       "      <td>Tired, lethargic, sleepy.</td>\n",
       "    </tr>\n",
       "    <tr>\n",
       "      <th>2</th>\n",
       "      <td>9/28/2025 9:55:31</td>\n",
       "      <td>9/28/2025</td>\n",
       "      <td>5</td>\n",
       "      <td>Yellow</td>\n",
       "      <td>37</td>\n",
       "      <td>82</td>\n",
       "      <td>6:35</td>\n",
       "      <td>23</td>\n",
       "      <td>66</td>\n",
       "      <td>Maintenance</td>\n",
       "      <td>Training day</td>\n",
       "      <td>Trained</td>\n",
       "      <td>Average</td>\n",
       "      <td>Joint pain. Fatigue.</td>\n",
       "    </tr>\n",
       "  </tbody>\n",
       "</table>\n",
       "</div>"
      ],
      "text/plain": [
       "            Timestamp Today's Date  \\\n",
       "0  9/26/2025 11:10:28    9/26/2025   \n",
       "1   9/27/2025 6:44:05    9/27/2025   \n",
       "2   9/28/2025 9:55:31    9/28/2025   \n",
       "\n",
       "   How did you feel today? (1 worst, 10 best) Whoop recovery status  \\\n",
       "0                                           3                 Green   \n",
       "1                                           4                Yellow   \n",
       "2                                           5                Yellow   \n",
       "\n",
       "   Whoop recovery score%  Whoop sleep score% Whoop sleep hours  HRV  RHR  \\\n",
       "0                     91                  85              6:15   36   62   \n",
       "1                     61                  85              7:03   28   62   \n",
       "2                     37                  82              6:35   23   66   \n",
       "\n",
       "      Calories Training day or rest day? Did you train or did you rest?  \\\n",
       "0      Deficit              Training day                        Trained   \n",
       "1      Deficit                  Rest day                         Rested   \n",
       "2  Maintenance              Training day                        Trained   \n",
       "\n",
       "  Training performance?                                         Any notes?  \n",
       "0         Below average  Felt somewhat sick all day. Very drained. Low ...  \n",
       "1                   NaN                         Tired, lethargic, sleepy.   \n",
       "2               Average                               Joint pain. Fatigue.  "
      ]
     },
     "execution_count": 27,
     "metadata": {},
     "output_type": "execute_result"
    }
   ],
   "source": [
    "from pathlib import Path\n",
    "\n",
    "# Path.cwd() gives you the *current working directory* (where the notebook is).\n",
    "# Because the notebook lives in \"notebooks/\", we go one level up with .parent\n",
    "# that lands us in the project root folder: hrv-readiness-study/\n",
    "ROOT = Path.cwd().parent  \n",
    "\n",
    "# Build the path to the \"data/raw\" folder inside the project root.\n",
    "# This is equivalent to writing \"../data/raw\" if you're in notebooks/,\n",
    "# but much clearer and more stable.\n",
    "RAW = ROOT / \"data\" / \"raw\"  \n",
    "\n",
    "# Read the CSV file stored in data/raw. \n",
    "# RAW / \"wellness.csv\" joins the folder path with the filename safely,\n",
    "# so you don’t have to worry about slashes on different OSes.\n",
    "hrv = pd.read_csv(\"https://docs.google.com/spreadsheets/d/e/2PACX-1vQdQNqbZ2h-NgflUUbKUbLiCXJkcCne-qIp-JWaQE_2XZhFdljkkANmcHM4obQTcbNI8y4_U5cc3xz_/pub?gid=1912488080&single=true&output=csv\")\n",
    "\n",
    "# freeze a copy of the csv file to RAW folder\n",
    "from datetime import date \n",
    "today = date.today()\n",
    "# Turn it into a string like \"2025-09-26\"\n",
    "today_str = today.strftime(\"%Y-%m-%d\")\n",
    "# Build the filename using that string\n",
    "filename = f\"wellness_{today}.csv\"\n",
    "# Join it with your RAW folder path\n",
    "path = RAW / filename\n",
    "# Save the DataFrame snapshot\n",
    "hrv.to_csv(path, index=False)\n",
    "# Quick check\n",
    "print(\"Saved snapshot to:\", path)\n",
    "hrv\n"
   ]
  },
  {
   "cell_type": "code",
   "execution_count": 29,
   "id": "350804b2",
   "metadata": {},
   "outputs": [
    {
     "data": {
      "text/html": [
       "<div>\n",
       "<style scoped>\n",
       "    .dataframe tbody tr th:only-of-type {\n",
       "        vertical-align: middle;\n",
       "    }\n",
       "\n",
       "    .dataframe tbody tr th {\n",
       "        vertical-align: top;\n",
       "    }\n",
       "\n",
       "    .dataframe thead th {\n",
       "        text-align: right;\n",
       "    }\n",
       "</style>\n",
       "<table border=\"1\" class=\"dataframe\">\n",
       "  <thead>\n",
       "    <tr style=\"text-align: right;\">\n",
       "      <th></th>\n",
       "      <th>timestamp</th>\n",
       "      <th>date</th>\n",
       "      <th>feeling_score</th>\n",
       "      <th>recovery_status</th>\n",
       "      <th>recovery_score</th>\n",
       "      <th>sleep_score</th>\n",
       "      <th>sleep_time</th>\n",
       "      <th>hrv</th>\n",
       "      <th>rhr</th>\n",
       "      <th>calories</th>\n",
       "      <th>train_rest</th>\n",
       "      <th>trained_yn</th>\n",
       "      <th>training_score</th>\n",
       "      <th>notes</th>\n",
       "    </tr>\n",
       "  </thead>\n",
       "  <tbody>\n",
       "    <tr>\n",
       "      <th>0</th>\n",
       "      <td>9/26/2025 11:10:28</td>\n",
       "      <td>9/26/2025</td>\n",
       "      <td>3</td>\n",
       "      <td>Green</td>\n",
       "      <td>91</td>\n",
       "      <td>85</td>\n",
       "      <td>6:15</td>\n",
       "      <td>36</td>\n",
       "      <td>62</td>\n",
       "      <td>Deficit</td>\n",
       "      <td>Training day</td>\n",
       "      <td>Trained</td>\n",
       "      <td>Below average</td>\n",
       "      <td>Felt somewhat sick all day. Very drained. Low ...</td>\n",
       "    </tr>\n",
       "    <tr>\n",
       "      <th>1</th>\n",
       "      <td>9/27/2025 6:44:05</td>\n",
       "      <td>9/27/2025</td>\n",
       "      <td>4</td>\n",
       "      <td>Yellow</td>\n",
       "      <td>61</td>\n",
       "      <td>85</td>\n",
       "      <td>7:03</td>\n",
       "      <td>28</td>\n",
       "      <td>62</td>\n",
       "      <td>Deficit</td>\n",
       "      <td>Rest day</td>\n",
       "      <td>Rested</td>\n",
       "      <td>NaN</td>\n",
       "      <td>Tired, lethargic, sleepy.</td>\n",
       "    </tr>\n",
       "    <tr>\n",
       "      <th>2</th>\n",
       "      <td>9/28/2025 9:55:31</td>\n",
       "      <td>9/28/2025</td>\n",
       "      <td>5</td>\n",
       "      <td>Yellow</td>\n",
       "      <td>37</td>\n",
       "      <td>82</td>\n",
       "      <td>6:35</td>\n",
       "      <td>23</td>\n",
       "      <td>66</td>\n",
       "      <td>Maintenance</td>\n",
       "      <td>Training day</td>\n",
       "      <td>Trained</td>\n",
       "      <td>Average</td>\n",
       "      <td>Joint pain. Fatigue.</td>\n",
       "    </tr>\n",
       "  </tbody>\n",
       "</table>\n",
       "</div>"
      ],
      "text/plain": [
       "            timestamp       date  feeling_score recovery_status  \\\n",
       "0  9/26/2025 11:10:28  9/26/2025              3           Green   \n",
       "1   9/27/2025 6:44:05  9/27/2025              4          Yellow   \n",
       "2   9/28/2025 9:55:31  9/28/2025              5          Yellow   \n",
       "\n",
       "   recovery_score  sleep_score sleep_time  hrv  rhr     calories  \\\n",
       "0              91           85       6:15   36   62      Deficit   \n",
       "1              61           85       7:03   28   62      Deficit   \n",
       "2              37           82       6:35   23   66  Maintenance   \n",
       "\n",
       "     train_rest trained_yn training_score  \\\n",
       "0  Training day    Trained  Below average   \n",
       "1      Rest day     Rested            NaN   \n",
       "2  Training day    Trained        Average   \n",
       "\n",
       "                                               notes  \n",
       "0  Felt somewhat sick all day. Very drained. Low ...  \n",
       "1                         Tired, lethargic, sleepy.   \n",
       "2                               Joint pain. Fatigue.  "
      ]
     },
     "execution_count": 29,
     "metadata": {},
     "output_type": "execute_result"
    }
   ],
   "source": [
    "# begin cleaning the data\n",
    "\n",
    "#rename columns\n",
    "hrv_clean = hrv.rename(columns={\"Timestamp\": \"timestamp\", \"Today's Date\": \"date\",\n",
    "    \"How did you feel today? (1 worst, 10 best)\": \"feeling_score\",\n",
    "    \"Whoop recovery status\": \"recovery_status\",\n",
    "    \"Whoop recovery score%\": \"recovery_score\",\n",
    "    \"Whoop sleep score%\": \"sleep_score\",\n",
    "    \"RHR\": \"rhr\",\n",
    "    \"HRV\": \"hrv\",\n",
    "    \"Calories\": \"calories\",\n",
    "    \"Whoop sleep score %\": \"sleep_score\",\n",
    "    \"Whoop sleep hours\": \"sleep_time\",\n",
    "    \"Training day or rest day?\": \"train_rest\",\n",
    "    \"Did you train or did you rest?\": \"trained_yn\",\n",
    "    \"Training performance?\": \"training_score\",\n",
    "    \"Any notes?\": \"notes\",})\n",
    "\n",
    "hrv_clean"
   ]
  },
  {
   "cell_type": "code",
   "execution_count": 30,
   "id": "63a052e4",
   "metadata": {},
   "outputs": [
    {
     "name": "stdout",
     "output_type": "stream",
     "text": [
      "<class 'pandas.core.frame.DataFrame'>\n",
      "RangeIndex: 3 entries, 0 to 2\n",
      "Data columns (total 14 columns):\n",
      " #   Column           Non-Null Count  Dtype \n",
      "---  ------           --------------  ----- \n",
      " 0   timestamp        3 non-null      object\n",
      " 1   date             3 non-null      object\n",
      " 2   feeling_score    3 non-null      int64 \n",
      " 3   recovery_status  3 non-null      object\n",
      " 4   recovery_score   3 non-null      int64 \n",
      " 5   sleep_score      3 non-null      int64 \n",
      " 6   sleep_time       3 non-null      object\n",
      " 7   hrv              3 non-null      int64 \n",
      " 8   rhr              3 non-null      int64 \n",
      " 9   calories         3 non-null      object\n",
      " 10  train_rest       3 non-null      object\n",
      " 11  trained_yn       3 non-null      object\n",
      " 12  training_score   2 non-null      object\n",
      " 13  notes            3 non-null      object\n",
      "dtypes: int64(5), object(9)\n",
      "memory usage: 468.0+ bytes\n"
     ]
    }
   ],
   "source": [
    "# check dtypes\n",
    "hrv_clean.info()"
   ]
  },
  {
   "cell_type": "code",
   "execution_count": 31,
   "id": "c2ce6932",
   "metadata": {},
   "outputs": [
    {
     "data": {
      "text/plain": [
       "dtype('<M8[ns]')"
      ]
     },
     "execution_count": 31,
     "metadata": {},
     "output_type": "execute_result"
    }
   ],
   "source": [
    "# turn date into datetime \n",
    "hrv_clean[\"date\"] = pd.to_datetime(hrv_clean[\"date\"], errors=\"raise\")\n",
    "\n",
    "# check output \n",
    "hrv_clean[\"date\"].dtype\n"
   ]
  },
  {
   "cell_type": "code",
   "execution_count": 32,
   "id": "f450193a",
   "metadata": {},
   "outputs": [
    {
     "data": {
      "text/html": [
       "<div>\n",
       "<style scoped>\n",
       "    .dataframe tbody tr th:only-of-type {\n",
       "        vertical-align: middle;\n",
       "    }\n",
       "\n",
       "    .dataframe tbody tr th {\n",
       "        vertical-align: top;\n",
       "    }\n",
       "\n",
       "    .dataframe thead th {\n",
       "        text-align: right;\n",
       "    }\n",
       "</style>\n",
       "<table border=\"1\" class=\"dataframe\">\n",
       "  <thead>\n",
       "    <tr style=\"text-align: right;\">\n",
       "      <th></th>\n",
       "      <th>timestamp</th>\n",
       "      <th>date</th>\n",
       "      <th>feeling_score</th>\n",
       "      <th>recovery_status</th>\n",
       "      <th>recovery_score</th>\n",
       "      <th>sleep_score</th>\n",
       "      <th>sleep_time</th>\n",
       "      <th>hrv</th>\n",
       "      <th>rhr</th>\n",
       "      <th>calories</th>\n",
       "      <th>train_rest</th>\n",
       "      <th>trained_yn</th>\n",
       "      <th>training_score</th>\n",
       "      <th>notes</th>\n",
       "      <th>year</th>\n",
       "      <th>month</th>\n",
       "      <th>day</th>\n",
       "    </tr>\n",
       "  </thead>\n",
       "  <tbody>\n",
       "    <tr>\n",
       "      <th>0</th>\n",
       "      <td>9/26/2025 11:10:28</td>\n",
       "      <td>2025-09-26</td>\n",
       "      <td>3</td>\n",
       "      <td>Green</td>\n",
       "      <td>91</td>\n",
       "      <td>85</td>\n",
       "      <td>6:15</td>\n",
       "      <td>36</td>\n",
       "      <td>62</td>\n",
       "      <td>Deficit</td>\n",
       "      <td>Training day</td>\n",
       "      <td>Trained</td>\n",
       "      <td>Below average</td>\n",
       "      <td>Felt somewhat sick all day. Very drained. Low ...</td>\n",
       "      <td>2025</td>\n",
       "      <td>9</td>\n",
       "      <td>26</td>\n",
       "    </tr>\n",
       "  </tbody>\n",
       "</table>\n",
       "</div>"
      ],
      "text/plain": [
       "            timestamp       date  feeling_score recovery_status  \\\n",
       "0  9/26/2025 11:10:28 2025-09-26              3           Green   \n",
       "\n",
       "   recovery_score  sleep_score sleep_time  hrv  rhr calories    train_rest  \\\n",
       "0              91           85       6:15   36   62  Deficit  Training day   \n",
       "\n",
       "  trained_yn training_score  \\\n",
       "0    Trained  Below average   \n",
       "\n",
       "                                               notes  year  month  day  \n",
       "0  Felt somewhat sick all day. Very drained. Low ...  2025      9   26  "
      ]
     },
     "execution_count": 32,
     "metadata": {},
     "output_type": "execute_result"
    }
   ],
   "source": [
    "# extract year and date\n",
    "hrv_clean[\"year\"] = hrv_clean[\"date\"].dt.year\n",
    "hrv_clean[\"month\"] = hrv_clean[\"date\"].dt.month\n",
    "hrv_clean[\"day\"] = hrv_clean[\"date\"].dt.day\n",
    "\n",
    "# filter by ranges\n",
    "hrv_clean[hrv_clean[\"date\"] == \"26-09-25\"]\n"
   ]
  },
  {
   "cell_type": "code",
   "execution_count": 33,
   "id": "2b475b03",
   "metadata": {},
   "outputs": [
    {
     "name": "stdout",
     "output_type": "stream",
     "text": [
      "<class 'pandas.core.frame.DataFrame'>\n",
      "RangeIndex: 3 entries, 0 to 2\n",
      "Data columns (total 17 columns):\n",
      " #   Column           Non-Null Count  Dtype         \n",
      "---  ------           --------------  -----         \n",
      " 0   timestamp        3 non-null      object        \n",
      " 1   date             3 non-null      datetime64[ns]\n",
      " 2   feeling_score    3 non-null      int64         \n",
      " 3   recovery_status  3 non-null      object        \n",
      " 4   recovery_score   3 non-null      int64         \n",
      " 5   sleep_score      3 non-null      int64         \n",
      " 6   sleep_time       3 non-null      object        \n",
      " 7   hrv              3 non-null      int64         \n",
      " 8   rhr              3 non-null      int64         \n",
      " 9   calories         3 non-null      object        \n",
      " 10  train_rest       3 non-null      object        \n",
      " 11  trained_yn       3 non-null      object        \n",
      " 12  training_score   2 non-null      object        \n",
      " 13  notes            3 non-null      object        \n",
      " 14  year             3 non-null      int32         \n",
      " 15  month            3 non-null      int32         \n",
      " 16  day              3 non-null      int32         \n",
      "dtypes: datetime64[ns](1), int32(3), int64(5), object(8)\n",
      "memory usage: 504.0+ bytes\n"
     ]
    }
   ],
   "source": [
    "hrv_clean.info()"
   ]
  },
  {
   "cell_type": "code",
   "execution_count": 35,
   "id": "9f6f3355",
   "metadata": {},
   "outputs": [],
   "source": [
    "# turn numerical objects into intergers\n",
    "hrv_clean[\"feeling_score\"] = pd.to_numeric(hrv_clean[\"feeling_score\"], errors=\"coerce\") #feeling score\n",
    "hrv_clean[\"rhr\"] = pd.to_numeric(hrv_clean[\"rhr\"], errors=\"coerce\") #rhr\n",
    "hrv_clean[\"sleep_score\"] = pd.to_numeric(hrv_clean[\"sleep_score\"], errors=\"coerce\")\n",
    "hrv_clean[\"sleep_hhmm\"] = pd.to_numeric(hrv_clean[\"rhr\"], errors=\"coerce\") #rhr\n",
    "hrv_clean[\"sleep_score\"] = pd.to_numeric(hrv_clean[\"sleep_score\"], errors=\"coerce\")\n",
    "\n"
   ]
  },
  {
   "cell_type": "code",
   "execution_count": null,
   "id": "ea126ebd",
   "metadata": {},
   "outputs": [],
   "source": [
    "# use matplot lib to have plots in ipynb\n",
    "# plotly: allows interactive charts, spins up small web server like streamlit "
   ]
  },
  {
   "cell_type": "markdown",
   "id": "4775a3ec",
   "metadata": {},
   "source": [
    "## Import workout logs"
   ]
  },
  {
   "cell_type": "code",
   "execution_count": 39,
   "id": "3f756bf2",
   "metadata": {},
   "outputs": [
    {
     "name": "stdout",
     "output_type": "stream",
     "text": [
      "['Upper MP B\\n', 'Sun, Sep 28, 2025\\n', '\\n', 'Bench Press (Barbell)\\n', 'Set 1 : 40 kg  x 9\\n', 'Set 2 : 45 kg  x 10\\n', 'Set 3 : 55 kg  x 7\\n', '\\n', 'Chest Supported Row (Machine)\\n', 'Set 1 : 35 kg  x 7\\n', 'Set 2 : 35 kg  x 8\\n', 'Set 3 : 35 kg  x 10\\n', '\\n', 'Lat Pulldown\\n', 'Set 1 : 50 kg  x 7\\n', 'Set 2 : 55 kg  x 9\\n', 'Set 3 : 60 kg  x 8\\n', '\\n', 'Lateral Raise (Dumbbell)\\n', 'Set 1 : 5 kg  x 8\\n']\n"
     ]
    }
   ],
   "source": [
    "with open(\"../data/raw/workouts/sept_28_25.txt\") as f:\n",
    "    lines = f.readlines()\n",
    "\n",
    "print(lines[:20])\n"
   ]
  },
  {
   "cell_type": "code",
   "execution_count": null,
   "id": "bfc8f9cb",
   "metadata": {},
   "outputs": [
    {
     "name": "stdout",
     "output_type": "stream",
     "text": [
      "Upper MP B\n",
      "Sun, Sep 28, 2025\n",
      "\n",
      "Bench Press (Barbell)\n",
      "Set 1 : 40 kg  x 9\n",
      "Set 2 : 45 kg  x 10\n",
      "Set 3 : 55 kg  x 7\n",
      "\n",
      "Chest Supported Row (Machine)\n",
      "Set 1 : 35 kg  x 7\n",
      "Set 2 : 35 kg  x 8\n",
      "Set 3 : 35 kg  x 10\n",
      "\n",
      "Lat Pulldown\n",
      "Set 1 : 50 kg  x 7\n",
      "Set 2 : 55 kg  x 9\n",
      "Set 3 : 60 kg  x 8\n",
      "\n",
      "Lateral Raise (Dumbbell)\n",
      "Set 1 : 5 kg  x 8\n",
      "Set 2 : 5 kg  x 8\n",
      "Set 3 : 5 kg  x 11\n",
      "Set 4 : 5 kg  x 13\n",
      "\n",
      "Reverse Pec Deck\n",
      "Set 1 : 25 kg  x 10\n",
      "Set 2 : 35 kg  x 9\n",
      "Set 3 : 45 kg  x 7\n",
      "\n",
      "Overhead Tricep Extension (Cable)\n",
      "Set 1 : 25 kg  x 10\n",
      "Set 2 : 35 kg  x 6\n",
      "\n"
     ]
    }
   ],
   "source": [
    "for line in lines:\n",
    "    cleaned = line.strip(\"\\n\")\n",
    "    print(cleaned)\n",
    "     "
   ]
  },
  {
   "cell_type": "code",
   "execution_count": 56,
   "id": "d2ebb2b9",
   "metadata": {},
   "outputs": [
    {
     "name": "stdout",
     "output_type": "stream",
     "text": [
      "['09_28_25.txt', '09_26_25.txt']\n"
     ]
    }
   ],
   "source": [
    "from pathlib import Path\n",
    "\n",
    "# Path.cwd() gives you the *current working directory* (where the notebook is).\n",
    "# Because the notebook lives in \"notebooks/\", we go one level up with .parent\n",
    "# that lands us in the project root folder: hrv-readiness-study/\n",
    "ROOT = Path.cwd().parent  \n",
    "\n",
    "# Build the path to the \"data/raw\" folder inside the project root.\n",
    "# This is equivalent to writing \"../data/raw\" if you're in notebooks/,\n",
    "# but much clearer and more stable.\n",
    "WORKOUTS = ROOT / \"data\" / \"raw\" / \"workouts\"  \n",
    "\n",
    "WORKOUTS.mkdir(parents=True, exist_ok=True) # mkdir -> “make this folder.”\n",
    "# parents=True -> if any parent folders don’t exist yet (like data/ or data/raw/), create them too.\n",
    "# exist_ok=True -> don’t crash if the folder already exists; just carry on.\n",
    "\n",
    "list(WORKOUTS.glob(\"*.txt\")) # gives you Path objects. .glob is the method on the Path object\n",
    "\n",
    "print([p.name for p in WORKOUTS.glob(\"*.txt\")]) # .glob(\"*.txt\") → all .txt files in that folder.\n",
    "# (\"*.csv\") → all .csv files.\n",
    "# glob(\"2025-09-*.txt\") → all text files that start with that date pattern.\n",
    "\n"
   ]
  },
  {
   "cell_type": "code",
   "execution_count": null,
   "id": "5640cdc4",
   "metadata": {},
   "outputs": [
    {
     "name": "stdout",
     "output_type": "stream",
     "text": [
      "File: 09_28_25.txt\n",
      "First 15 lines:\n",
      "'Upper MP B'\n",
      "'Sun, Sep 28, 2025'\n",
      "''\n",
      "'Bench Press (Barbell)'\n",
      "'Set 1 : 40 kg  x 9'\n",
      "'Set 2 : 45 kg  x 10'\n",
      "'Set 3 : 55 kg  x 7'\n",
      "''\n",
      "'Chest Supported Row (Machine)'\n",
      "'Set 1 : 35 kg  x 7'\n",
      "'Set 2 : 35 kg  x 8'\n",
      "'Set 3 : 35 kg  x 10'\n",
      "''\n",
      "'Lat Pulldown'\n",
      "'Set 1 : 50 kg  x 7'\n"
     ]
    }
   ],
   "source": [
    "f = list(WORKOUTS.glob(\"*.txt\"))[0] # grab first file in workouts\n",
    "lines = f.read_text(encoding=\"utf-8\").splitlines() # Return a list of the lines in the string, breaking at line boundaries.\n",
    "\n",
    "print(\"File:\", f.name)\n",
    "print(\"First 15 lines:\")\n",
    "for line in lines[:15]:\n",
    "    print(repr(line)) # repr: shows the representation of the object. For strings, that means wrapping them in quotes and escaping things like \\n."
   ]
  },
  {
   "cell_type": "code",
   "execution_count": null,
   "id": "6878d48a",
   "metadata": {},
   "outputs": [],
   "source": []
  }
 ],
 "metadata": {
  "kernelspec": {
   "display_name": "hrv-readiness-study-py3.13",
   "language": "python",
   "name": "python3"
  },
  "language_info": {
   "codemirror_mode": {
    "name": "ipython",
    "version": 3
   },
   "file_extension": ".py",
   "mimetype": "text/x-python",
   "name": "python",
   "nbconvert_exporter": "python",
   "pygments_lexer": "ipython3",
   "version": "3.13.3"
  }
 },
 "nbformat": 4,
 "nbformat_minor": 5
}
